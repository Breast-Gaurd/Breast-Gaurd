{
 "cells": [
  {
   "cell_type": "markdown",
   "id": "57de9771",
   "metadata": {},
   "source": [
    "###  1. Download the dataset: Dataset\n",
    "### 2. Load the dataset into the tool."
   ]
  },
  {
   "cell_type": "code",
   "execution_count": 1,
   "id": "8caf029d",
   "metadata": {},
   "outputs": [],
   "source": [
    "import numpy as np\n",
    "import pandas as pd\n",
    "import seaborn as sns\n",
    "import matplotlib.pyplot as plt"
   ]
  },
  {
   "cell_type": "code",
   "execution_count": 2,
   "id": "b38dcd46",
   "metadata": {},
   "outputs": [],
   "source": [
    "df=pd.read_csv('housing.csv')"
   ]
  },
  {
   "cell_type": "code",
   "execution_count": 3,
   "id": "9bb8eedb",
   "metadata": {},
   "outputs": [
    {
     "data": {
      "text/html": [
       "<div>\n",
       "<style scoped>\n",
       "    .dataframe tbody tr th:only-of-type {\n",
       "        vertical-align: middle;\n",
       "    }\n",
       "\n",
       "    .dataframe tbody tr th {\n",
       "        vertical-align: top;\n",
       "    }\n",
       "\n",
       "    .dataframe thead th {\n",
       "        text-align: right;\n",
       "    }\n",
       "</style>\n",
       "<table border=\"1\" class=\"dataframe\">\n",
       "  <thead>\n",
       "    <tr style=\"text-align: right;\">\n",
       "      <th></th>\n",
       "      <th>price</th>\n",
       "      <th>area</th>\n",
       "      <th>bedrooms</th>\n",
       "      <th>bathrooms</th>\n",
       "      <th>stories</th>\n",
       "      <th>mainroad</th>\n",
       "      <th>guestroom</th>\n",
       "      <th>basement</th>\n",
       "      <th>hotwaterheating</th>\n",
       "      <th>airconditioning</th>\n",
       "      <th>parking</th>\n",
       "      <th>furnishingstatus</th>\n",
       "    </tr>\n",
       "  </thead>\n",
       "  <tbody>\n",
       "    <tr>\n",
       "      <th>0</th>\n",
       "      <td>13300000</td>\n",
       "      <td>7420</td>\n",
       "      <td>4</td>\n",
       "      <td>2</td>\n",
       "      <td>3</td>\n",
       "      <td>yes</td>\n",
       "      <td>no</td>\n",
       "      <td>no</td>\n",
       "      <td>no</td>\n",
       "      <td>yes</td>\n",
       "      <td>2</td>\n",
       "      <td>furnished</td>\n",
       "    </tr>\n",
       "    <tr>\n",
       "      <th>1</th>\n",
       "      <td>12250000</td>\n",
       "      <td>8960</td>\n",
       "      <td>4</td>\n",
       "      <td>4</td>\n",
       "      <td>4</td>\n",
       "      <td>yes</td>\n",
       "      <td>no</td>\n",
       "      <td>no</td>\n",
       "      <td>no</td>\n",
       "      <td>yes</td>\n",
       "      <td>3</td>\n",
       "      <td>furnished</td>\n",
       "    </tr>\n",
       "    <tr>\n",
       "      <th>2</th>\n",
       "      <td>12250000</td>\n",
       "      <td>9960</td>\n",
       "      <td>3</td>\n",
       "      <td>2</td>\n",
       "      <td>2</td>\n",
       "      <td>yes</td>\n",
       "      <td>no</td>\n",
       "      <td>yes</td>\n",
       "      <td>no</td>\n",
       "      <td>no</td>\n",
       "      <td>2</td>\n",
       "      <td>semi-furnished</td>\n",
       "    </tr>\n",
       "    <tr>\n",
       "      <th>3</th>\n",
       "      <td>12215000</td>\n",
       "      <td>7500</td>\n",
       "      <td>4</td>\n",
       "      <td>2</td>\n",
       "      <td>2</td>\n",
       "      <td>yes</td>\n",
       "      <td>no</td>\n",
       "      <td>yes</td>\n",
       "      <td>no</td>\n",
       "      <td>yes</td>\n",
       "      <td>3</td>\n",
       "      <td>furnished</td>\n",
       "    </tr>\n",
       "    <tr>\n",
       "      <th>4</th>\n",
       "      <td>11410000</td>\n",
       "      <td>7420</td>\n",
       "      <td>4</td>\n",
       "      <td>1</td>\n",
       "      <td>2</td>\n",
       "      <td>yes</td>\n",
       "      <td>yes</td>\n",
       "      <td>yes</td>\n",
       "      <td>no</td>\n",
       "      <td>yes</td>\n",
       "      <td>2</td>\n",
       "      <td>furnished</td>\n",
       "    </tr>\n",
       "  </tbody>\n",
       "</table>\n",
       "</div>"
      ],
      "text/plain": [
       "      price  area  bedrooms  bathrooms  stories mainroad guestroom basement  \\\n",
       "0  13300000  7420         4          2        3      yes        no       no   \n",
       "1  12250000  8960         4          4        4      yes        no       no   \n",
       "2  12250000  9960         3          2        2      yes        no      yes   \n",
       "3  12215000  7500         4          2        2      yes        no      yes   \n",
       "4  11410000  7420         4          1        2      yes       yes      yes   \n",
       "\n",
       "  hotwaterheating airconditioning  parking furnishingstatus  \n",
       "0              no             yes        2        furnished  \n",
       "1              no             yes        3        furnished  \n",
       "2              no              no        2   semi-furnished  \n",
       "3              no             yes        3        furnished  \n",
       "4              no             yes        2        furnished  "
      ]
     },
     "execution_count": 3,
     "metadata": {},
     "output_type": "execute_result"
    }
   ],
   "source": [
    "df.head()"
   ]
  },
  {
   "cell_type": "markdown",
   "id": "c3ae4ef8",
   "metadata": {},
   "source": [
    "### 3. Perform Below Visualizations.\n",
    "###  Univariate Analysis\n",
    "###  Bi-Variate Analysis\n",
    "###  Multi-Variate Analysis"
   ]
  },
  {
   "cell_type": "code",
   "execution_count": 4,
   "id": "2839f92c",
   "metadata": {},
   "outputs": [
    {
     "data": {
      "text/plain": [
       "Text(0.5, 0, 'price')"
      ]
     },
     "execution_count": 4,
     "metadata": {},
     "output_type": "execute_result"
    },
    {
     "data": {
      "image/png": "[encoded data removed]",
      "text/plain": [
       "<Figure size 640x480 with 1 Axes>"
      ]
     },
     "metadata": {},
     "output_type": "display_data"
    }
   ],
   "source": [
    "# Univariate Analysis\n",
    "\n",
    "plt.plot(df.price)\n",
    "plt.xlabel('price')"
   ]
  },
  {
   "cell_type": "code",
   "execution_count": 5,
   "id": "5da4bd2a",
   "metadata": {},
   "outputs": [
    {
     "data": {
      "text/plain": [
       "Text(0, 0.5, 'area')"
      ]
     },
     "execution_count": 5,
     "metadata": {},
     "output_type": "execute_result"
    },
    {
     "data": {
      "image/png": "[encoded data removed]",
      "text/plain": [
       "<Figure size 640x480 with 1 Axes>"
      ]
     },
     "metadata": {},
     "output_type": "display_data"
    }
   ],
   "source": [
    "# Bi Variate Analysis\n",
    "\n",
    "plt.scatter(df.price,df.area)\n",
    "plt.xlabel('price')\n",
    "plt.ylabel('area')"
   ]
  },
  {
   "cell_type": "code",
   "execution_count": 6,
   "id": "363b5174",
   "metadata": {},
   "outputs": [
    {
     "name": "stderr",
     "output_type": "stream",
     "text": [
      "C:\\Users\\HP\\AppData\\Local\\Temp\\ipykernel_6040\\3947850958.py:3: FutureWarning: The default value of numeric_only in DataFrame.corr is deprecated. In a future version, it will default to False. Select only valid columns or specify the value of numeric_only to silence this warning.\n",
      "  sns.heatmap(df.corr())\n"
     ]
    },
    {
     "data": {
      "text/plain": [
       "<Axes: >"
      ]
     },
     "execution_count": 6,
     "metadata": {},
     "output_type": "execute_result"
    },
    {
     "data": {
      "image/png": "[encoded data removed]",
      "text/plain": [
       "<Figure size 640x480 with 2 Axes>"
      ]
     },
     "metadata": {},
     "output_type": "display_data"
    }
   ],
   "source": [
    "#Multivariate Analysis\n",
    "\n",
    "sns.heatmap(df.corr())"
   ]
  },
  {
   "cell_type": "markdown",
   "id": "c684fcaa",
   "metadata": {},
   "source": [
    "### 4. Perform descriptive statistics on the dataset."
   ]
  },
  {
   "cell_type": "code",
   "execution_count": 7,
   "id": "b87b9d63",
   "metadata": {},
   "outputs": [],
   "source": [
    "# Measure of central tendency"
   ]
  },
  {
   "cell_type": "code",
   "execution_count": 8,
   "id": "2482daa5",
   "metadata": {},
   "outputs": [
    {
     "name": "stderr",
     "output_type": "stream",
     "text": [
      "C:\\Users\\HP\\AppData\\Local\\Temp\\ipykernel_6040\\3698961737.py:1: FutureWarning: The default value of numeric_only in DataFrame.mean is deprecated. In a future version, it will default to False. In addition, specifying 'numeric_only=None' is deprecated. Select only valid columns or specify the value of numeric_only to silence this warning.\n",
      "  df.mean()\n"
     ]
    },
    {
     "data": {
      "text/plain": [
       "price        4.766729e+06\n",
       "area         5.150541e+03\n",
       "bedrooms     2.965138e+00\n",
       "bathrooms    1.286239e+00\n",
       "stories      1.805505e+00\n",
       "parking      6.935780e-01\n",
       "dtype: float64"
      ]
     },
     "execution_count": 8,
     "metadata": {},
     "output_type": "execute_result"
    }
   ],
   "source": [
    "df.mean()"
   ]
  },
  {
   "cell_type": "code",
   "execution_count": 9,
   "id": "8a707663",
   "metadata": {},
   "outputs": [
    {
     "data": {
      "text/html": [
       "<div>\n",
       "<style scoped>\n",
       "    .dataframe tbody tr th:only-of-type {\n",
       "        vertical-align: middle;\n",
       "    }\n",
       "\n",
       "    .dataframe tbody tr th {\n",
       "        vertical-align: top;\n",
       "    }\n",
       "\n",
       "    .dataframe thead th {\n",
       "        text-align: right;\n",
       "    }\n",
       "</style>\n",
       "<table border=\"1\" class=\"dataframe\">\n",
       "  <thead>\n",
       "    <tr style=\"text-align: right;\">\n",
       "      <th></th>\n",
       "      <th>price</th>\n",
       "      <th>area</th>\n",
       "      <th>bedrooms</th>\n",
       "      <th>bathrooms</th>\n",
       "      <th>stories</th>\n",
       "      <th>mainroad</th>\n",
       "      <th>guestroom</th>\n",
       "      <th>basement</th>\n",
       "      <th>hotwaterheating</th>\n",
       "      <th>airconditioning</th>\n",
       "      <th>parking</th>\n",
       "      <th>furnishingstatus</th>\n",
       "    </tr>\n",
       "  </thead>\n",
       "  <tbody>\n",
       "    <tr>\n",
       "      <th>0</th>\n",
       "      <td>3500000</td>\n",
       "      <td>6000.0</td>\n",
       "      <td>3.0</td>\n",
       "      <td>1.0</td>\n",
       "      <td>2.0</td>\n",
       "      <td>yes</td>\n",
       "      <td>no</td>\n",
       "      <td>no</td>\n",
       "      <td>no</td>\n",
       "      <td>no</td>\n",
       "      <td>0.0</td>\n",
       "      <td>semi-furnished</td>\n",
       "    </tr>\n",
       "    <tr>\n",
       "      <th>1</th>\n",
       "      <td>4200000</td>\n",
       "      <td>NaN</td>\n",
       "      <td>NaN</td>\n",
       "      <td>NaN</td>\n",
       "      <td>NaN</td>\n",
       "      <td>NaN</td>\n",
       "      <td>NaN</td>\n",
       "      <td>NaN</td>\n",
       "      <td>NaN</td>\n",
       "      <td>NaN</td>\n",
       "      <td>NaN</td>\n",
       "      <td>NaN</td>\n",
       "    </tr>\n",
       "  </tbody>\n",
       "</table>\n",
       "</div>"
      ],
      "text/plain": [
       "     price    area  bedrooms  bathrooms  stories mainroad guestroom basement  \\\n",
       "0  3500000  6000.0       3.0        1.0      2.0      yes        no       no   \n",
       "1  4200000     NaN       NaN        NaN      NaN      NaN       NaN      NaN   \n",
       "\n",
       "  hotwaterheating airconditioning  parking furnishingstatus  \n",
       "0              no              no      0.0   semi-furnished  \n",
       "1             NaN             NaN      NaN              NaN  "
      ]
     },
     "execution_count": 9,
     "metadata": {},
     "output_type": "execute_result"
    }
   ],
   "source": [
    "df.mode()"
   ]
  },
  {
   "cell_type": "code",
   "execution_count": 10,
   "id": "5f2d8080",
   "metadata": {},
   "outputs": [
    {
     "name": "stderr",
     "output_type": "stream",
     "text": [
      "C:\\Users\\HP\\AppData\\Local\\Temp\\ipykernel_6040\\530051474.py:1: FutureWarning: The default value of numeric_only in DataFrame.median is deprecated. In a future version, it will default to False. In addition, specifying 'numeric_only=None' is deprecated. Select only valid columns or specify the value of numeric_only to silence this warning.\n",
      "  df.median()\n"
     ]
    },
    {
     "data": {
      "text/plain": [
       "price        4340000.0\n",
       "area            4600.0\n",
       "bedrooms           3.0\n",
       "bathrooms          1.0\n",
       "stories            2.0\n",
       "parking            0.0\n",
       "dtype: float64"
      ]
     },
     "execution_count": 10,
     "metadata": {},
     "output_type": "execute_result"
    }
   ],
   "source": [
    "df.median()"
   ]
  },
  {
   "cell_type": "code",
   "execution_count": 11,
   "id": "095b1f9c",
   "metadata": {},
   "outputs": [],
   "source": [
    "# Measure of Variability"
   ]
  },
  {
   "cell_type": "code",
   "execution_count": 12,
   "id": "0f215859",
   "metadata": {},
   "outputs": [
    {
     "name": "stderr",
     "output_type": "stream",
     "text": [
      "C:\\Users\\HP\\AppData\\Local\\Temp\\ipykernel_6040\\1568254755.py:1: FutureWarning: The default value of numeric_only in DataFrame.var is deprecated. In a future version, it will default to False. In addition, specifying 'numeric_only=None' is deprecated. Select only valid columns or specify the value of numeric_only to silence this warning.\n",
      "  df.var()\n"
     ]
    },
    {
     "data": {
      "text/plain": [
       "price        3.498544e+12\n",
       "area         4.709512e+06\n",
       "bedrooms     5.447383e-01\n",
       "bathrooms    2.524757e-01\n",
       "stories      7.525432e-01\n",
       "parking      7.423300e-01\n",
       "dtype: float64"
      ]
     },
     "execution_count": 12,
     "metadata": {},
     "output_type": "execute_result"
    }
   ],
   "source": [
    "df.var()"
   ]
  },
  {
   "cell_type": "code",
   "execution_count": 13,
   "id": "a2e7bd88",
   "metadata": {},
   "outputs": [
    {
     "name": "stderr",
     "output_type": "stream",
     "text": [
      "C:\\Users\\HP\\AppData\\Local\\Temp\\ipykernel_6040\\3390915376.py:1: FutureWarning: The default value of numeric_only in DataFrame.std is deprecated. In a future version, it will default to False. In addition, specifying 'numeric_only=None' is deprecated. Select only valid columns or specify the value of numeric_only to silence this warning.\n",
      "  df.std()\n"
     ]
    },
    {
     "data": {
      "text/plain": [
       "price        1.870440e+06\n",
       "area         2.170141e+03\n",
       "bedrooms     7.380639e-01\n",
       "bathrooms    5.024696e-01\n",
       "stories      8.674925e-01\n",
       "parking      8.615858e-01\n",
       "dtype: float64"
      ]
     },
     "execution_count": 13,
     "metadata": {},
     "output_type": "execute_result"
    }
   ],
   "source": [
    "df.std()"
   ]
  },
  {
   "cell_type": "code",
   "execution_count": 14,
   "id": "ffdef999",
   "metadata": {},
   "outputs": [
    {
     "name": "stderr",
     "output_type": "stream",
     "text": [
      "C:\\Users\\HP\\AppData\\Local\\Temp\\ipykernel_6040\\1257127604.py:1: FutureWarning: The default value of numeric_only in DataFrame.kurt is deprecated. In a future version, it will default to False. In addition, specifying 'numeric_only=None' is deprecated. Select only valid columns or specify the value of numeric_only to silence this warning.\n",
      "  df.kurt()\n"
     ]
    },
    {
     "data": {
      "text/plain": [
       "price        1.960130\n",
       "area         2.751480\n",
       "bedrooms     0.728323\n",
       "bathrooms    2.164856\n",
       "stories      0.679404\n",
       "parking     -0.573063\n",
       "dtype: float64"
      ]
     },
     "execution_count": 14,
     "metadata": {},
     "output_type": "execute_result"
    }
   ],
   "source": [
    "df.kurt()"
   ]
  },
  {
   "cell_type": "code",
   "execution_count": 15,
   "id": "85cbcb19",
   "metadata": {},
   "outputs": [
    {
     "name": "stderr",
     "output_type": "stream",
     "text": [
      "C:\\Users\\HP\\AppData\\Local\\Temp\\ipykernel_6040\\1665899112.py:1: FutureWarning: The default value of numeric_only in DataFrame.skew is deprecated. In a future version, it will default to False. In addition, specifying 'numeric_only=None' is deprecated. Select only valid columns or specify the value of numeric_only to silence this warning.\n",
      "  df.skew()\n"
     ]
    },
    {
     "data": {
      "text/plain": [
       "price        1.212239\n",
       "area         1.321188\n",
       "bedrooms     0.495684\n",
       "bathrooms    1.589264\n",
       "stories      1.082088\n",
       "parking      0.842062\n",
       "dtype: float64"
      ]
     },
     "execution_count": 15,
     "metadata": {},
     "output_type": "execute_result"
    }
   ],
   "source": [
    "df.skew()"
   ]
  },
  {
   "cell_type": "markdown",
   "id": "eb0b5cbc",
   "metadata": {},
   "source": [
    "### 5. Check for Missing values and deal with them."
   ]
  },
  {
   "cell_type": "code",
   "execution_count": 16,
   "id": "dafbb278",
   "metadata": {},
   "outputs": [
    {
     "data": {
      "text/plain": [
       "price               0\n",
       "area                0\n",
       "bedrooms            0\n",
       "bathrooms           0\n",
       "stories             0\n",
       "mainroad            0\n",
       "guestroom           0\n",
       "basement            0\n",
       "hotwaterheating     0\n",
       "airconditioning     0\n",
       "parking             0\n",
       "furnishingstatus    0\n",
       "dtype: int64"
      ]
     },
     "execution_count": 16,
     "metadata": {},
     "output_type": "execute_result"
    }
   ],
   "source": [
    "df.isnull().sum()"
   ]
  },
  {
   "cell_type": "markdown",
   "id": "755f1f1f",
   "metadata": {},
   "source": [
    "### 6. Find the outliers and replace them outliers"
   ]
  },
  {
   "cell_type": "code",
   "execution_count": 17,
   "id": "908ebeaf",
   "metadata": {},
   "outputs": [
    {
     "data": {
      "text/html": [
       "<div>\n",
       "<style scoped>\n",
       "    .dataframe tbody tr th:only-of-type {\n",
       "        vertical-align: middle;\n",
       "    }\n",
       "\n",
       "    .dataframe tbody tr th {\n",
       "        vertical-align: top;\n",
       "    }\n",
       "\n",
       "    .dataframe thead th {\n",
       "        text-align: right;\n",
       "    }\n",
       "</style>\n",
       "<table border=\"1\" class=\"dataframe\">\n",
       "  <thead>\n",
       "    <tr style=\"text-align: right;\">\n",
       "      <th></th>\n",
       "      <th>price</th>\n",
       "      <th>area</th>\n",
       "      <th>bedrooms</th>\n",
       "      <th>bathrooms</th>\n",
       "      <th>stories</th>\n",
       "      <th>mainroad</th>\n",
       "      <th>guestroom</th>\n",
       "      <th>basement</th>\n",
       "      <th>hotwaterheating</th>\n",
       "      <th>airconditioning</th>\n",
       "      <th>parking</th>\n",
       "      <th>furnishingstatus</th>\n",
       "    </tr>\n",
       "  </thead>\n",
       "  <tbody>\n",
       "    <tr>\n",
       "      <th>0</th>\n",
       "      <td>13300000</td>\n",
       "      <td>7420</td>\n",
       "      <td>4</td>\n",
       "      <td>2</td>\n",
       "      <td>3</td>\n",
       "      <td>yes</td>\n",
       "      <td>no</td>\n",
       "      <td>no</td>\n",
       "      <td>no</td>\n",
       "      <td>yes</td>\n",
       "      <td>2</td>\n",
       "      <td>furnished</td>\n",
       "    </tr>\n",
       "    <tr>\n",
       "      <th>1</th>\n",
       "      <td>12250000</td>\n",
       "      <td>8960</td>\n",
       "      <td>4</td>\n",
       "      <td>4</td>\n",
       "      <td>4</td>\n",
       "      <td>yes</td>\n",
       "      <td>no</td>\n",
       "      <td>no</td>\n",
       "      <td>no</td>\n",
       "      <td>yes</td>\n",
       "      <td>3</td>\n",
       "      <td>furnished</td>\n",
       "    </tr>\n",
       "    <tr>\n",
       "      <th>2</th>\n",
       "      <td>12250000</td>\n",
       "      <td>9960</td>\n",
       "      <td>3</td>\n",
       "      <td>2</td>\n",
       "      <td>2</td>\n",
       "      <td>yes</td>\n",
       "      <td>no</td>\n",
       "      <td>yes</td>\n",
       "      <td>no</td>\n",
       "      <td>no</td>\n",
       "      <td>2</td>\n",
       "      <td>semi-furnished</td>\n",
       "    </tr>\n",
       "    <tr>\n",
       "      <th>3</th>\n",
       "      <td>12215000</td>\n",
       "      <td>7500</td>\n",
       "      <td>4</td>\n",
       "      <td>2</td>\n",
       "      <td>2</td>\n",
       "      <td>yes</td>\n",
       "      <td>no</td>\n",
       "      <td>yes</td>\n",
       "      <td>no</td>\n",
       "      <td>yes</td>\n",
       "      <td>3</td>\n",
       "      <td>furnished</td>\n",
       "    </tr>\n",
       "    <tr>\n",
       "      <th>4</th>\n",
       "      <td>11410000</td>\n",
       "      <td>7420</td>\n",
       "      <td>4</td>\n",
       "      <td>1</td>\n",
       "      <td>2</td>\n",
       "      <td>yes</td>\n",
       "      <td>yes</td>\n",
       "      <td>yes</td>\n",
       "      <td>no</td>\n",
       "      <td>yes</td>\n",
       "      <td>2</td>\n",
       "      <td>furnished</td>\n",
       "    </tr>\n",
       "  </tbody>\n",
       "</table>\n",
       "</div>"
      ],
      "text/plain": [
       "      price  area  bedrooms  bathrooms  stories mainroad guestroom basement  \\\n",
       "0  13300000  7420         4          2        3      yes        no       no   \n",
       "1  12250000  8960         4          4        4      yes        no       no   \n",
       "2  12250000  9960         3          2        2      yes        no      yes   \n",
       "3  12215000  7500         4          2        2      yes        no      yes   \n",
       "4  11410000  7420         4          1        2      yes       yes      yes   \n",
       "\n",
       "  hotwaterheating airconditioning  parking furnishingstatus  \n",
       "0              no             yes        2        furnished  \n",
       "1              no             yes        3        furnished  \n",
       "2              no              no        2   semi-furnished  \n",
       "3              no             yes        3        furnished  \n",
       "4              no             yes        2        furnished  "
      ]
     },
     "execution_count": 17,
     "metadata": {},
     "output_type": "execute_result"
    }
   ],
   "source": [
    "df.head()"
   ]
  },
  {
   "cell_type": "code",
   "execution_count": 18,
   "id": "ed59e3b9",
   "metadata": {},
   "outputs": [
    {
     "data": {
      "text/plain": [
       "{'whiskers': [<matplotlib.lines.Line2D at 0x26c532acaf0>,\n",
       "  <matplotlib.lines.Line2D at 0x26c532acc70>],\n",
       " 'caps': [<matplotlib.lines.Line2D at 0x26c532acf10>,\n",
       "  <matplotlib.lines.Line2D at 0x26c532ad1b0>],\n",
       " 'boxes': [<matplotlib.lines.Line2D at 0x26c532ac850>],\n",
       " 'medians': [<matplotlib.lines.Line2D at 0x26c532ad450>],\n",
       " 'fliers': [<matplotlib.lines.Line2D at 0x26c532ad6f0>],\n",
       " 'means': []}"
      ]
     },
     "execution_count": 18,
     "metadata": {},
     "output_type": "execute_result"
    },
    {
     "data": {
      "image/png": "[encoded data removed]",
      "text/plain": [
       "<Figure size 640x480 with 1 Axes>"
      ]
     },
     "metadata": {},
     "output_type": "display_data"
    }
   ],
   "source": [
    "plt.boxplot(df.price)"
   ]
  },
  {
   "cell_type": "code",
   "execution_count": 19,
   "id": "d9980d74",
   "metadata": {},
   "outputs": [
    {
     "data": {
      "text/plain": [
       "{'whiskers': [<matplotlib.lines.Line2D at 0x26c532ffa90>,\n",
       "  <matplotlib.lines.Line2D at 0x26c532ffd30>],\n",
       " 'caps': [<matplotlib.lines.Line2D at 0x26c532fff70>,\n",
       "  <matplotlib.lines.Line2D at 0x26c53334250>],\n",
       " 'boxes': [<matplotlib.lines.Line2D at 0x26c532ff7f0>],\n",
       " 'medians': [<matplotlib.lines.Line2D at 0x26c533344f0>],\n",
       " 'fliers': [<matplotlib.lines.Line2D at 0x26c53334790>],\n",
       " 'means': []}"
      ]
     },
     "execution_count": 19,
     "metadata": {},
     "output_type": "execute_result"
    },
    {
     "data": {
      "image/png": "[encoded data removed]",
      "text/plain": [
       "<Figure size 640x480 with 1 Axes>"
      ]
     },
     "metadata": {},
     "output_type": "display_data"
    }
   ],
   "source": [
    "plt.boxplot(df.area)"
   ]
  },
  {
   "cell_type": "code",
   "execution_count": 20,
   "id": "be67a25d",
   "metadata": {},
   "outputs": [
    {
     "data": {
      "text/plain": [
       "{'whiskers': [<matplotlib.lines.Line2D at 0x26c5337a710>,\n",
       "  <matplotlib.lines.Line2D at 0x26c5337bc70>],\n",
       " 'caps': [<matplotlib.lines.Line2D at 0x26c5337bf10>,\n",
       "  <matplotlib.lines.Line2D at 0x26c533b41f0>],\n",
       " 'boxes': [<matplotlib.lines.Line2D at 0x26c5337b850>],\n",
       " 'medians': [<matplotlib.lines.Line2D at 0x26c533b4490>],\n",
       " 'fliers': [<matplotlib.lines.Line2D at 0x26c533b4730>],\n",
       " 'means': []}"
      ]
     },
     "execution_count": 20,
     "metadata": {},
     "output_type": "execute_result"
    },
    {
     "data": {
      "image/png": "[encoded data removed]",
      "text/plain": [
       "<Figure size 640x480 with 1 Axes>"
      ]
     },
     "metadata": {},
     "output_type": "display_data"
    }
   ],
   "source": [
    "plt.boxplot(df.bedrooms)"
   ]
  },
  {
   "cell_type": "code",
   "execution_count": 21,
   "id": "d478db7b",
   "metadata": {},
   "outputs": [
    {
     "data": {
      "text/plain": [
       "{'whiskers': [<matplotlib.lines.Line2D at 0x26c533f69b0>,\n",
       "  <matplotlib.lines.Line2D at 0x26c533f6c50>],\n",
       " 'caps': [<matplotlib.lines.Line2D at 0x26c533f4700>,\n",
       "  <matplotlib.lines.Line2D at 0x26c533f7070>],\n",
       " 'boxes': [<matplotlib.lines.Line2D at 0x26c533f6710>],\n",
       " 'medians': [<matplotlib.lines.Line2D at 0x26c533f7310>],\n",
       " 'fliers': [<matplotlib.lines.Line2D at 0x26c533f75e0>],\n",
       " 'means': []}"
      ]
     },
     "execution_count": 21,
     "metadata": {},
     "output_type": "execute_result"
    },
    {
     "data": {
      "image/png": "[encoded data removed]",
      "text/plain": [
       "<Figure size 640x480 with 1 Axes>"
      ]
     },
     "metadata": {},
     "output_type": "display_data"
    }
   ],
   "source": [
    "plt.boxplot(df.stories)"
   ]
  },
  {
   "cell_type": "code",
   "execution_count": 22,
   "id": "3719ce11",
   "metadata": {},
   "outputs": [
    {
     "data": {
      "text/plain": [
       "{'whiskers': [<matplotlib.lines.Line2D at 0x26c535c5f60>,\n",
       "  <matplotlib.lines.Line2D at 0x26c535c6200>],\n",
       " 'caps': [<matplotlib.lines.Line2D at 0x26c535c6380>,\n",
       "  <matplotlib.lines.Line2D at 0x26c535c6620>],\n",
       " 'boxes': [<matplotlib.lines.Line2D at 0x26c535c5cc0>],\n",
       " 'medians': [<matplotlib.lines.Line2D at 0x26c535c68c0>],\n",
       " 'fliers': [<matplotlib.lines.Line2D at 0x26c535c6b60>],\n",
       " 'means': []}"
      ]
     },
     "execution_count": 22,
     "metadata": {},
     "output_type": "execute_result"
    },
    {
     "data": {
      "image/png": "[encoded data removed]",
      "text/plain": [
       "<Figure size 640x480 with 1 Axes>"
      ]
     },
     "metadata": {},
     "output_type": "display_data"
    }
   ],
   "source": [
    "plt.boxplot(df.parking)"
   ]
  },
  {
   "cell_type": "code",
   "execution_count": 23,
   "id": "a586d90c",
   "metadata": {},
   "outputs": [],
   "source": [
    "# Removing Outliers"
   ]
  },
  {
   "cell_type": "code",
   "execution_count": 24,
   "id": "4d8570aa",
   "metadata": {},
   "outputs": [
    {
     "data": {
      "text/plain": [
       "{'whiskers': [<matplotlib.lines.Line2D at 0x26c5363a0e0>,\n",
       "  <matplotlib.lines.Line2D at 0x26c5363a380>],\n",
       " 'caps': [<matplotlib.lines.Line2D at 0x26c5363a620>,\n",
       "  <matplotlib.lines.Line2D at 0x26c5363a8c0>],\n",
       " 'boxes': [<matplotlib.lines.Line2D at 0x26c53639f60>],\n",
       " 'medians': [<matplotlib.lines.Line2D at 0x26c5363ab60>],\n",
       " 'fliers': [<matplotlib.lines.Line2D at 0x26c5363ae00>],\n",
       " 'means': []}"
      ]
     },
     "execution_count": 24,
     "metadata": {},
     "output_type": "execute_result"
    },
    {
     "data": {
      "image/png": "[encoded data removed]",
      "text/plain": [
       "<Figure size 640x480 with 1 Axes>"
      ]
     },
     "metadata": {},
     "output_type": "display_data"
    }
   ],
   "source": [
    "#per99_1=df.price.quantile(0.99)\n",
    "#df=df[df.price<=per99_1]\n",
    "#plt.boxplot(df.price)\n",
    "quantile=df.price.quantile(q=[0.75,0.25])\n",
    "quantile\n",
    "IQR=quantile.iloc[0]-quantile.iloc[1]\n",
    "ul=quantile.iloc[0]+IQR\n",
    "ll=quantile.iloc[1]-IQR\n",
    "df=df[df['price']<ul]\n",
    "df=df[df['price']>ll]\n",
    "plt.boxplot(df['price'])"
   ]
  },
  {
   "cell_type": "code",
   "execution_count": 25,
   "id": "6652d7b6",
   "metadata": {},
   "outputs": [
    {
     "data": {
      "text/plain": [
       "{'whiskers': [<matplotlib.lines.Line2D at 0x26c546cd6c0>,\n",
       "  <matplotlib.lines.Line2D at 0x26c546cd960>],\n",
       " 'caps': [<matplotlib.lines.Line2D at 0x26c546cdc00>,\n",
       "  <matplotlib.lines.Line2D at 0x26c546cdea0>],\n",
       " 'boxes': [<matplotlib.lines.Line2D at 0x26c546cd420>],\n",
       " 'medians': [<matplotlib.lines.Line2D at 0x26c546ce140>],\n",
       " 'fliers': [<matplotlib.lines.Line2D at 0x26c546ce3e0>],\n",
       " 'means': []}"
      ]
     },
     "execution_count": 25,
     "metadata": {},
     "output_type": "execute_result"
    },
    {
     "data": {
      "image/png": "[encoded data removed]",
      "text/plain": [
       "<Figure size 640x480 with 1 Axes>"
      ]
     },
     "metadata": {},
     "output_type": "display_data"
    }
   ],
   "source": [
    "#per99_2=df.area.quantile(0.99)\n",
    "#df=df[df.area<=per99_2]\n",
    "#plt.boxplot(df.area)\n",
    "quantile=df.area.quantile(q=[0.75,0.25])\n",
    "quantile\n",
    "IQR=quantile.iloc[0]-quantile.iloc[1]\n",
    "ul=quantile.iloc[0]+IQR\n",
    "ll=quantile.iloc[1]-IQR\n",
    "df=df[df['area']<ul]\n",
    "df=df[df['area']>ll]\n",
    "plt.boxplot(df['area'])"
   ]
  },
  {
   "cell_type": "code",
   "execution_count": 26,
   "id": "82117b48",
   "metadata": {},
   "outputs": [
    {
     "data": {
      "text/plain": [
       "{'whiskers': [<matplotlib.lines.Line2D at 0x26c5474cd30>,\n",
       "  <matplotlib.lines.Line2D at 0x26c5474cfd0>],\n",
       " 'caps': [<matplotlib.lines.Line2D at 0x26c5474d270>,\n",
       "  <matplotlib.lines.Line2D at 0x26c5474d510>],\n",
       " 'boxes': [<matplotlib.lines.Line2D at 0x26c5474ca90>],\n",
       " 'medians': [<matplotlib.lines.Line2D at 0x26c5474d7b0>],\n",
       " 'fliers': [<matplotlib.lines.Line2D at 0x26c5474da50>],\n",
       " 'means': []}"
      ]
     },
     "execution_count": 26,
     "metadata": {},
     "output_type": "execute_result"
    },
    {
     "data": {
      "image/png": "[encoded data removed]",
      "text/plain": [
       "<Figure size 640x480 with 1 Axes>"
      ]
     },
     "metadata": {},
     "output_type": "display_data"
    }
   ],
   "source": [
    "#per99_3=df.bedrooms.quantile(0.99)\n",
    "#df=df[df.bedrooms<=per99_3]\n",
    "#plt.boxplot(df.bedrooms)\n",
    "quantile=df.bedrooms.quantile(q=[0.75,0.25])\n",
    "quantile\n",
    "IQR=quantile.iloc[0]-quantile.iloc[1]\n",
    "ul=quantile.iloc[0]+IQR\n",
    "ll=quantile.iloc[1]-IQR\n",
    "df=df[df['bedrooms']<ul]\n",
    "df=df[df['bedrooms']>ll]\n",
    "plt.boxplot(df['bedrooms'])"
   ]
  },
  {
   "cell_type": "code",
   "execution_count": 27,
   "id": "a092b3d3",
   "metadata": {},
   "outputs": [
    {
     "data": {
      "text/plain": [
       "{'whiskers': [<matplotlib.lines.Line2D at 0x26c548d38e0>,\n",
       "  <matplotlib.lines.Line2D at 0x26c548d3b80>],\n",
       " 'caps': [<matplotlib.lines.Line2D at 0x26c548d3e20>,\n",
       "  <matplotlib.lines.Line2D at 0x26c549080a0>],\n",
       " 'boxes': [<matplotlib.lines.Line2D at 0x26c548d3640>],\n",
       " 'medians': [<matplotlib.lines.Line2D at 0x26c54908340>],\n",
       " 'fliers': [<matplotlib.lines.Line2D at 0x26c549085e0>],\n",
       " 'means': []}"
      ]
     },
     "execution_count": 27,
     "metadata": {},
     "output_type": "execute_result"
    },
    {
     "data": {
      "image/png": "[encoded data removed]",
      "text/plain": [
       "<Figure size 640x480 with 1 Axes>"
      ]
     },
     "metadata": {},
     "output_type": "display_data"
    }
   ],
   "source": [
    "#per99_4=df.stories.quantile(0.99)\n",
    "#df=df[df.stories<=per99_4]\n",
    "#plt.boxplot(df.stories)\n",
    "\n",
    "quantile=df.stories.quantile(q=[0.75,0.25])\n",
    "quantile\n",
    "IQR=quantile.iloc[0]-quantile.iloc[1]\n",
    "ul=quantile.iloc[0]+IQR\n",
    "ll=quantile.iloc[1]-IQR\n",
    "df=df[df['stories']<ul]\n",
    "df=df[df['stories']>ll]\n",
    "plt.boxplot(df['stories'])"
   ]
  },
  {
   "cell_type": "code",
   "execution_count": 28,
   "id": "0a9e8c68",
   "metadata": {},
   "outputs": [
    {
     "data": {
      "text/plain": [
       "{'whiskers': [<matplotlib.lines.Line2D at 0x26c54956530>,\n",
       "  <matplotlib.lines.Line2D at 0x26c549567d0>],\n",
       " 'caps': [<matplotlib.lines.Line2D at 0x26c54956a70>,\n",
       "  <matplotlib.lines.Line2D at 0x26c54956d10>],\n",
       " 'boxes': [<matplotlib.lines.Line2D at 0x26c54956260>],\n",
       " 'medians': [<matplotlib.lines.Line2D at 0x26c54956fb0>],\n",
       " 'fliers': [<matplotlib.lines.Line2D at 0x26c54957250>],\n",
       " 'means': []}"
      ]
     },
     "execution_count": 28,
     "metadata": {},
     "output_type": "execute_result"
    },
    {
     "data": {
      "image/png": "[encoded data removed]",
      "text/plain": [
       "<Figure size 640x480 with 1 Axes>"
      ]
     },
     "metadata": {},
     "output_type": "display_data"
    }
   ],
   "source": [
    "#per99_5=df.parking.quantile(0.99)\n",
    "#df=df[df.parking<=per99_5]\n",
    "#plt.boxplot(df.parking)\n",
    "\n",
    "quantile=df.parking.quantile(q=[0.75,0.25])\n",
    "quantile\n",
    "IQR=quantile.iloc[0]-quantile.iloc[1]\n",
    "ul=quantile.iloc[0]+IQR\n",
    "ll=quantile.iloc[1]-IQR\n",
    "df=df[df['parking']<ul]\n",
    "df=df[df['parking']>ll]\n",
    "plt.boxplot(df['parking'])"
   ]
  },
  {
   "cell_type": "markdown",
   "id": "3af3ef25",
   "metadata": {},
   "source": [
    "### 7. Check for Categorical columns and perform encoding."
   ]
  },
  {
   "cell_type": "code",
   "execution_count": 29,
   "id": "6516b334",
   "metadata": {},
   "outputs": [],
   "source": [
    "from sklearn.preprocessing import LabelEncoder"
   ]
  },
  {
   "cell_type": "code",
   "execution_count": 30,
   "id": "34534747",
   "metadata": {},
   "outputs": [],
   "source": [
    "le=LabelEncoder()"
   ]
  },
  {
   "cell_type": "code",
   "execution_count": 31,
   "id": "8e6b3100",
   "metadata": {},
   "outputs": [
    {
     "data": {
      "text/html": [
       "<div>\n",
       "<style scoped>\n",
       "    .dataframe tbody tr th:only-of-type {\n",
       "        vertical-align: middle;\n",
       "    }\n",
       "\n",
       "    .dataframe tbody tr th {\n",
       "        vertical-align: top;\n",
       "    }\n",
       "\n",
       "    .dataframe thead th {\n",
       "        text-align: right;\n",
       "    }\n",
       "</style>\n",
       "<table border=\"1\" class=\"dataframe\">\n",
       "  <thead>\n",
       "    <tr style=\"text-align: right;\">\n",
       "      <th></th>\n",
       "      <th>price</th>\n",
       "      <th>area</th>\n",
       "      <th>bedrooms</th>\n",
       "      <th>bathrooms</th>\n",
       "      <th>stories</th>\n",
       "      <th>mainroad</th>\n",
       "      <th>guestroom</th>\n",
       "      <th>basement</th>\n",
       "      <th>hotwaterheating</th>\n",
       "      <th>airconditioning</th>\n",
       "      <th>parking</th>\n",
       "      <th>furnishingstatus</th>\n",
       "    </tr>\n",
       "  </thead>\n",
       "  <tbody>\n",
       "    <tr>\n",
       "      <th>40</th>\n",
       "      <td>7875000</td>\n",
       "      <td>6550</td>\n",
       "      <td>3</td>\n",
       "      <td>1</td>\n",
       "      <td>2</td>\n",
       "      <td>yes</td>\n",
       "      <td>no</td>\n",
       "      <td>yes</td>\n",
       "      <td>no</td>\n",
       "      <td>yes</td>\n",
       "      <td>0</td>\n",
       "      <td>furnished</td>\n",
       "    </tr>\n",
       "    <tr>\n",
       "      <th>48</th>\n",
       "      <td>7455000</td>\n",
       "      <td>4300</td>\n",
       "      <td>3</td>\n",
       "      <td>2</td>\n",
       "      <td>2</td>\n",
       "      <td>yes</td>\n",
       "      <td>no</td>\n",
       "      <td>yes</td>\n",
       "      <td>no</td>\n",
       "      <td>no</td>\n",
       "      <td>1</td>\n",
       "      <td>unfurnished</td>\n",
       "    </tr>\n",
       "    <tr>\n",
       "      <th>49</th>\n",
       "      <td>7420000</td>\n",
       "      <td>7440</td>\n",
       "      <td>3</td>\n",
       "      <td>2</td>\n",
       "      <td>1</td>\n",
       "      <td>yes</td>\n",
       "      <td>yes</td>\n",
       "      <td>yes</td>\n",
       "      <td>no</td>\n",
       "      <td>yes</td>\n",
       "      <td>0</td>\n",
       "      <td>semi-furnished</td>\n",
       "    </tr>\n",
       "    <tr>\n",
       "      <th>54</th>\n",
       "      <td>7350000</td>\n",
       "      <td>6000</td>\n",
       "      <td>3</td>\n",
       "      <td>2</td>\n",
       "      <td>2</td>\n",
       "      <td>yes</td>\n",
       "      <td>yes</td>\n",
       "      <td>no</td>\n",
       "      <td>no</td>\n",
       "      <td>yes</td>\n",
       "      <td>1</td>\n",
       "      <td>semi-furnished</td>\n",
       "    </tr>\n",
       "    <tr>\n",
       "      <th>55</th>\n",
       "      <td>7350000</td>\n",
       "      <td>6000</td>\n",
       "      <td>3</td>\n",
       "      <td>1</td>\n",
       "      <td>2</td>\n",
       "      <td>yes</td>\n",
       "      <td>no</td>\n",
       "      <td>no</td>\n",
       "      <td>no</td>\n",
       "      <td>yes</td>\n",
       "      <td>1</td>\n",
       "      <td>unfurnished</td>\n",
       "    </tr>\n",
       "  </tbody>\n",
       "</table>\n",
       "</div>"
      ],
      "text/plain": [
       "      price  area  bedrooms  bathrooms  stories mainroad guestroom basement  \\\n",
       "40  7875000  6550         3          1        2      yes        no      yes   \n",
       "48  7455000  4300         3          2        2      yes        no      yes   \n",
       "49  7420000  7440         3          2        1      yes       yes      yes   \n",
       "54  7350000  6000         3          2        2      yes       yes       no   \n",
       "55  7350000  6000         3          1        2      yes        no       no   \n",
       "\n",
       "   hotwaterheating airconditioning  parking furnishingstatus  \n",
       "40              no             yes        0        furnished  \n",
       "48              no              no        1      unfurnished  \n",
       "49              no             yes        0   semi-furnished  \n",
       "54              no             yes        1   semi-furnished  \n",
       "55              no             yes        1      unfurnished  "
      ]
     },
     "execution_count": 31,
     "metadata": {},
     "output_type": "execute_result"
    }
   ],
   "source": [
    "df.head()"
   ]
  },
  {
   "cell_type": "code",
   "execution_count": 32,
   "id": "7af25c38",
   "metadata": {},
   "outputs": [
    {
     "data": {
      "text/plain": [
       "40     1\n",
       "48     1\n",
       "49     1\n",
       "54     1\n",
       "55     1\n",
       "      ..\n",
       "539    0\n",
       "541    0\n",
       "542    1\n",
       "543    0\n",
       "544    1\n",
       "Name: mainroad, Length: 282, dtype: int32"
      ]
     },
     "execution_count": 32,
     "metadata": {},
     "output_type": "execute_result"
    }
   ],
   "source": [
    "df.mainroad=le.fit_transform(df.mainroad)\n",
    "df.mainroad"
   ]
  },
  {
   "cell_type": "code",
   "execution_count": 33,
   "id": "1b9f0e49",
   "metadata": {},
   "outputs": [
    {
     "data": {
      "text/plain": [
       "40     0\n",
       "48     0\n",
       "49     1\n",
       "54     1\n",
       "55     0\n",
       "      ..\n",
       "539    0\n",
       "541    0\n",
       "542    0\n",
       "543    0\n",
       "544    0\n",
       "Name: guestroom, Length: 282, dtype: int32"
      ]
     },
     "execution_count": 33,
     "metadata": {},
     "output_type": "execute_result"
    }
   ],
   "source": [
    "df.guestroom=le.fit_transform(df.guestroom)\n",
    "df.guestroom"
   ]
  },
  {
   "cell_type": "code",
   "execution_count": 34,
   "id": "37c0406b",
   "metadata": {},
   "outputs": [
    {
     "data": {
      "text/plain": [
       "40     1\n",
       "48     1\n",
       "49     1\n",
       "54     0\n",
       "55     0\n",
       "      ..\n",
       "539    0\n",
       "541    0\n",
       "542    0\n",
       "543    0\n",
       "544    0\n",
       "Name: basement, Length: 282, dtype: int32"
      ]
     },
     "execution_count": 34,
     "metadata": {},
     "output_type": "execute_result"
    }
   ],
   "source": [
    "df.basement=le.fit_transform(df.basement)\n",
    "df.basement"
   ]
  },
  {
   "cell_type": "code",
   "execution_count": 35,
   "id": "e64c8f58",
   "metadata": {},
   "outputs": [
    {
     "data": {
      "text/plain": [
       "40     0\n",
       "48     0\n",
       "49     0\n",
       "54     0\n",
       "55     0\n",
       "      ..\n",
       "539    0\n",
       "541    0\n",
       "542    0\n",
       "543    0\n",
       "544    0\n",
       "Name: hotwaterheating, Length: 282, dtype: int32"
      ]
     },
     "execution_count": 35,
     "metadata": {},
     "output_type": "execute_result"
    }
   ],
   "source": [
    "df.hotwaterheating=le.fit_transform(df.hotwaterheating)\n",
    "df.hotwaterheating"
   ]
  },
  {
   "cell_type": "code",
   "execution_count": 36,
   "id": "c833bcd7",
   "metadata": {},
   "outputs": [
    {
     "data": {
      "text/plain": [
       "40     0\n",
       "48     2\n",
       "49     1\n",
       "54     1\n",
       "55     2\n",
       "      ..\n",
       "539    2\n",
       "541    1\n",
       "542    2\n",
       "543    0\n",
       "544    2\n",
       "Name: furnishingstatus, Length: 282, dtype: int32"
      ]
     },
     "execution_count": 36,
     "metadata": {},
     "output_type": "execute_result"
    }
   ],
   "source": [
    "df.furnishingstatus=le.fit_transform(df.furnishingstatus)\n",
    "df.furnishingstatus"
   ]
  },
  {
   "cell_type": "code",
   "execution_count": 37,
   "id": "2f124148",
   "metadata": {},
   "outputs": [
    {
     "data": {
      "text/plain": [
       "40     1\n",
       "48     0\n",
       "49     1\n",
       "54     1\n",
       "55     1\n",
       "      ..\n",
       "539    0\n",
       "541    0\n",
       "542    0\n",
       "543    0\n",
       "544    0\n",
       "Name: airconditioning, Length: 282, dtype: int32"
      ]
     },
     "execution_count": 37,
     "metadata": {},
     "output_type": "execute_result"
    }
   ],
   "source": [
    "df.airconditioning=le.fit_transform(df.airconditioning)\n",
    "df.airconditioning"
   ]
  },
  {
   "cell_type": "markdown",
   "id": "b30e6acb",
   "metadata": {},
   "source": [
    "### 8. Split the data into dependent and independent variables."
   ]
  },
  {
   "cell_type": "code",
   "execution_count": 38,
   "id": "7d810dbd",
   "metadata": {},
   "outputs": [],
   "source": [
    "y=df.price"
   ]
  },
  {
   "cell_type": "code",
   "execution_count": 39,
   "id": "2f5225b0",
   "metadata": {},
   "outputs": [
    {
     "data": {
      "text/html": [
       "<div>\n",
       "<style scoped>\n",
       "    .dataframe tbody tr th:only-of-type {\n",
       "        vertical-align: middle;\n",
       "    }\n",
       "\n",
       "    .dataframe tbody tr th {\n",
       "        vertical-align: top;\n",
       "    }\n",
       "\n",
       "    .dataframe thead th {\n",
       "        text-align: right;\n",
       "    }\n",
       "</style>\n",
       "<table border=\"1\" class=\"dataframe\">\n",
       "  <thead>\n",
       "    <tr style=\"text-align: right;\">\n",
       "      <th></th>\n",
       "      <th>area</th>\n",
       "      <th>bedrooms</th>\n",
       "      <th>bathrooms</th>\n",
       "      <th>stories</th>\n",
       "      <th>mainroad</th>\n",
       "      <th>guestroom</th>\n",
       "      <th>basement</th>\n",
       "      <th>hotwaterheating</th>\n",
       "      <th>airconditioning</th>\n",
       "      <th>parking</th>\n",
       "      <th>furnishingstatus</th>\n",
       "    </tr>\n",
       "  </thead>\n",
       "  <tbody>\n",
       "    <tr>\n",
       "      <th>40</th>\n",
       "      <td>6550</td>\n",
       "      <td>3</td>\n",
       "      <td>1</td>\n",
       "      <td>2</td>\n",
       "      <td>1</td>\n",
       "      <td>0</td>\n",
       "      <td>1</td>\n",
       "      <td>0</td>\n",
       "      <td>1</td>\n",
       "      <td>0</td>\n",
       "      <td>0</td>\n",
       "    </tr>\n",
       "    <tr>\n",
       "      <th>48</th>\n",
       "      <td>4300</td>\n",
       "      <td>3</td>\n",
       "      <td>2</td>\n",
       "      <td>2</td>\n",
       "      <td>1</td>\n",
       "      <td>0</td>\n",
       "      <td>1</td>\n",
       "      <td>0</td>\n",
       "      <td>0</td>\n",
       "      <td>1</td>\n",
       "      <td>2</td>\n",
       "    </tr>\n",
       "    <tr>\n",
       "      <th>49</th>\n",
       "      <td>7440</td>\n",
       "      <td>3</td>\n",
       "      <td>2</td>\n",
       "      <td>1</td>\n",
       "      <td>1</td>\n",
       "      <td>1</td>\n",
       "      <td>1</td>\n",
       "      <td>0</td>\n",
       "      <td>1</td>\n",
       "      <td>0</td>\n",
       "      <td>1</td>\n",
       "    </tr>\n",
       "    <tr>\n",
       "      <th>54</th>\n",
       "      <td>6000</td>\n",
       "      <td>3</td>\n",
       "      <td>2</td>\n",
       "      <td>2</td>\n",
       "      <td>1</td>\n",
       "      <td>1</td>\n",
       "      <td>0</td>\n",
       "      <td>0</td>\n",
       "      <td>1</td>\n",
       "      <td>1</td>\n",
       "      <td>1</td>\n",
       "    </tr>\n",
       "    <tr>\n",
       "      <th>55</th>\n",
       "      <td>6000</td>\n",
       "      <td>3</td>\n",
       "      <td>1</td>\n",
       "      <td>2</td>\n",
       "      <td>1</td>\n",
       "      <td>0</td>\n",
       "      <td>0</td>\n",
       "      <td>0</td>\n",
       "      <td>1</td>\n",
       "      <td>1</td>\n",
       "      <td>2</td>\n",
       "    </tr>\n",
       "    <tr>\n",
       "      <th>...</th>\n",
       "      <td>...</td>\n",
       "      <td>...</td>\n",
       "      <td>...</td>\n",
       "      <td>...</td>\n",
       "      <td>...</td>\n",
       "      <td>...</td>\n",
       "      <td>...</td>\n",
       "      <td>...</td>\n",
       "      <td>...</td>\n",
       "      <td>...</td>\n",
       "      <td>...</td>\n",
       "    </tr>\n",
       "    <tr>\n",
       "      <th>539</th>\n",
       "      <td>2990</td>\n",
       "      <td>2</td>\n",
       "      <td>1</td>\n",
       "      <td>1</td>\n",
       "      <td>0</td>\n",
       "      <td>0</td>\n",
       "      <td>0</td>\n",
       "      <td>0</td>\n",
       "      <td>0</td>\n",
       "      <td>1</td>\n",
       "      <td>2</td>\n",
       "    </tr>\n",
       "    <tr>\n",
       "      <th>541</th>\n",
       "      <td>2400</td>\n",
       "      <td>3</td>\n",
       "      <td>1</td>\n",
       "      <td>1</td>\n",
       "      <td>0</td>\n",
       "      <td>0</td>\n",
       "      <td>0</td>\n",
       "      <td>0</td>\n",
       "      <td>0</td>\n",
       "      <td>0</td>\n",
       "      <td>1</td>\n",
       "    </tr>\n",
       "    <tr>\n",
       "      <th>542</th>\n",
       "      <td>3620</td>\n",
       "      <td>2</td>\n",
       "      <td>1</td>\n",
       "      <td>1</td>\n",
       "      <td>1</td>\n",
       "      <td>0</td>\n",
       "      <td>0</td>\n",
       "      <td>0</td>\n",
       "      <td>0</td>\n",
       "      <td>0</td>\n",
       "      <td>2</td>\n",
       "    </tr>\n",
       "    <tr>\n",
       "      <th>543</th>\n",
       "      <td>2910</td>\n",
       "      <td>3</td>\n",
       "      <td>1</td>\n",
       "      <td>1</td>\n",
       "      <td>0</td>\n",
       "      <td>0</td>\n",
       "      <td>0</td>\n",
       "      <td>0</td>\n",
       "      <td>0</td>\n",
       "      <td>0</td>\n",
       "      <td>0</td>\n",
       "    </tr>\n",
       "    <tr>\n",
       "      <th>544</th>\n",
       "      <td>3850</td>\n",
       "      <td>3</td>\n",
       "      <td>1</td>\n",
       "      <td>2</td>\n",
       "      <td>1</td>\n",
       "      <td>0</td>\n",
       "      <td>0</td>\n",
       "      <td>0</td>\n",
       "      <td>0</td>\n",
       "      <td>0</td>\n",
       "      <td>2</td>\n",
       "    </tr>\n",
       "  </tbody>\n",
       "</table>\n",
       "<p>282 rows × 11 columns</p>\n",
       "</div>"
      ],
      "text/plain": [
       "     area  bedrooms  bathrooms  stories  mainroad  guestroom  basement  \\\n",
       "40   6550         3          1        2         1          0         1   \n",
       "48   4300         3          2        2         1          0         1   \n",
       "49   7440         3          2        1         1          1         1   \n",
       "54   6000         3          2        2         1          1         0   \n",
       "55   6000         3          1        2         1          0         0   \n",
       "..    ...       ...        ...      ...       ...        ...       ...   \n",
       "539  2990         2          1        1         0          0         0   \n",
       "541  2400         3          1        1         0          0         0   \n",
       "542  3620         2          1        1         1          0         0   \n",
       "543  2910         3          1        1         0          0         0   \n",
       "544  3850         3          1        2         1          0         0   \n",
       "\n",
       "     hotwaterheating  airconditioning  parking  furnishingstatus  \n",
       "40                 0                1        0                 0  \n",
       "48                 0                0        1                 2  \n",
       "49                 0                1        0                 1  \n",
       "54                 0                1        1                 1  \n",
       "55                 0                1        1                 2  \n",
       "..               ...              ...      ...               ...  \n",
       "539                0                0        1                 2  \n",
       "541                0                0        0                 1  \n",
       "542                0                0        0                 2  \n",
       "543                0                0        0                 0  \n",
       "544                0                0        0                 2  \n",
       "\n",
       "[282 rows x 11 columns]"
      ]
     },
     "execution_count": 39,
     "metadata": {},
     "output_type": "execute_result"
    }
   ],
   "source": [
    "x=df.drop(columns=['price'])\n",
    "x"
   ]
  },
  {
   "cell_type": "markdown",
   "id": "4774fd6d",
   "metadata": {},
   "source": [
    "### 9. Scale the independent variables"
   ]
  },
  {
   "cell_type": "code",
   "execution_count": 40,
   "id": "7675693e",
   "metadata": {},
   "outputs": [],
   "source": [
    "#from sklearn.preprocessing import MinMaxScaler\n",
    "from sklearn.preprocessing import StandardScaler"
   ]
  },
  {
   "cell_type": "code",
   "execution_count": 41,
   "id": "7670a1d7",
   "metadata": {},
   "outputs": [
    {
     "data": {
      "text/html": [
       "<div>\n",
       "<style scoped>\n",
       "    .dataframe tbody tr th:only-of-type {\n",
       "        vertical-align: middle;\n",
       "    }\n",
       "\n",
       "    .dataframe tbody tr th {\n",
       "        vertical-align: top;\n",
       "    }\n",
       "\n",
       "    .dataframe thead th {\n",
       "        text-align: right;\n",
       "    }\n",
       "</style>\n",
       "<table border=\"1\" class=\"dataframe\">\n",
       "  <thead>\n",
       "    <tr style=\"text-align: right;\">\n",
       "      <th></th>\n",
       "      <th>area</th>\n",
       "      <th>bedrooms</th>\n",
       "      <th>bathrooms</th>\n",
       "      <th>stories</th>\n",
       "      <th>mainroad</th>\n",
       "      <th>guestroom</th>\n",
       "      <th>basement</th>\n",
       "      <th>hotwaterheating</th>\n",
       "      <th>airconditioning</th>\n",
       "      <th>parking</th>\n",
       "      <th>furnishingstatus</th>\n",
       "    </tr>\n",
       "  </thead>\n",
       "  <tbody>\n",
       "    <tr>\n",
       "      <th>40</th>\n",
       "      <td>6550</td>\n",
       "      <td>3</td>\n",
       "      <td>1</td>\n",
       "      <td>2</td>\n",
       "      <td>1</td>\n",
       "      <td>0</td>\n",
       "      <td>1</td>\n",
       "      <td>0</td>\n",
       "      <td>1</td>\n",
       "      <td>0</td>\n",
       "      <td>0</td>\n",
       "    </tr>\n",
       "    <tr>\n",
       "      <th>48</th>\n",
       "      <td>4300</td>\n",
       "      <td>3</td>\n",
       "      <td>2</td>\n",
       "      <td>2</td>\n",
       "      <td>1</td>\n",
       "      <td>0</td>\n",
       "      <td>1</td>\n",
       "      <td>0</td>\n",
       "      <td>0</td>\n",
       "      <td>1</td>\n",
       "      <td>2</td>\n",
       "    </tr>\n",
       "    <tr>\n",
       "      <th>49</th>\n",
       "      <td>7440</td>\n",
       "      <td>3</td>\n",
       "      <td>2</td>\n",
       "      <td>1</td>\n",
       "      <td>1</td>\n",
       "      <td>1</td>\n",
       "      <td>1</td>\n",
       "      <td>0</td>\n",
       "      <td>1</td>\n",
       "      <td>0</td>\n",
       "      <td>1</td>\n",
       "    </tr>\n",
       "    <tr>\n",
       "      <th>54</th>\n",
       "      <td>6000</td>\n",
       "      <td>3</td>\n",
       "      <td>2</td>\n",
       "      <td>2</td>\n",
       "      <td>1</td>\n",
       "      <td>1</td>\n",
       "      <td>0</td>\n",
       "      <td>0</td>\n",
       "      <td>1</td>\n",
       "      <td>1</td>\n",
       "      <td>1</td>\n",
       "    </tr>\n",
       "    <tr>\n",
       "      <th>55</th>\n",
       "      <td>6000</td>\n",
       "      <td>3</td>\n",
       "      <td>1</td>\n",
       "      <td>2</td>\n",
       "      <td>1</td>\n",
       "      <td>0</td>\n",
       "      <td>0</td>\n",
       "      <td>0</td>\n",
       "      <td>1</td>\n",
       "      <td>1</td>\n",
       "      <td>2</td>\n",
       "    </tr>\n",
       "    <tr>\n",
       "      <th>...</th>\n",
       "      <td>...</td>\n",
       "      <td>...</td>\n",
       "      <td>...</td>\n",
       "      <td>...</td>\n",
       "      <td>...</td>\n",
       "      <td>...</td>\n",
       "      <td>...</td>\n",
       "      <td>...</td>\n",
       "      <td>...</td>\n",
       "      <td>...</td>\n",
       "      <td>...</td>\n",
       "    </tr>\n",
       "    <tr>\n",
       "      <th>539</th>\n",
       "      <td>2990</td>\n",
       "      <td>2</td>\n",
       "      <td>1</td>\n",
       "      <td>1</td>\n",
       "      <td>0</td>\n",
       "      <td>0</td>\n",
       "      <td>0</td>\n",
       "      <td>0</td>\n",
       "      <td>0</td>\n",
       "      <td>1</td>\n",
       "      <td>2</td>\n",
       "    </tr>\n",
       "    <tr>\n",
       "      <th>541</th>\n",
       "      <td>2400</td>\n",
       "      <td>3</td>\n",
       "      <td>1</td>\n",
       "      <td>1</td>\n",
       "      <td>0</td>\n",
       "      <td>0</td>\n",
       "      <td>0</td>\n",
       "      <td>0</td>\n",
       "      <td>0</td>\n",
       "      <td>0</td>\n",
       "      <td>1</td>\n",
       "    </tr>\n",
       "    <tr>\n",
       "      <th>542</th>\n",
       "      <td>3620</td>\n",
       "      <td>2</td>\n",
       "      <td>1</td>\n",
       "      <td>1</td>\n",
       "      <td>1</td>\n",
       "      <td>0</td>\n",
       "      <td>0</td>\n",
       "      <td>0</td>\n",
       "      <td>0</td>\n",
       "      <td>0</td>\n",
       "      <td>2</td>\n",
       "    </tr>\n",
       "    <tr>\n",
       "      <th>543</th>\n",
       "      <td>2910</td>\n",
       "      <td>3</td>\n",
       "      <td>1</td>\n",
       "      <td>1</td>\n",
       "      <td>0</td>\n",
       "      <td>0</td>\n",
       "      <td>0</td>\n",
       "      <td>0</td>\n",
       "      <td>0</td>\n",
       "      <td>0</td>\n",
       "      <td>0</td>\n",
       "    </tr>\n",
       "    <tr>\n",
       "      <th>544</th>\n",
       "      <td>3850</td>\n",
       "      <td>3</td>\n",
       "      <td>1</td>\n",
       "      <td>2</td>\n",
       "      <td>1</td>\n",
       "      <td>0</td>\n",
       "      <td>0</td>\n",
       "      <td>0</td>\n",
       "      <td>0</td>\n",
       "      <td>0</td>\n",
       "      <td>2</td>\n",
       "    </tr>\n",
       "  </tbody>\n",
       "</table>\n",
       "<p>282 rows × 11 columns</p>\n",
       "</div>"
      ],
      "text/plain": [
       "     area  bedrooms  bathrooms  stories  mainroad  guestroom  basement  \\\n",
       "40   6550         3          1        2         1          0         1   \n",
       "48   4300         3          2        2         1          0         1   \n",
       "49   7440         3          2        1         1          1         1   \n",
       "54   6000         3          2        2         1          1         0   \n",
       "55   6000         3          1        2         1          0         0   \n",
       "..    ...       ...        ...      ...       ...        ...       ...   \n",
       "539  2990         2          1        1         0          0         0   \n",
       "541  2400         3          1        1         0          0         0   \n",
       "542  3620         2          1        1         1          0         0   \n",
       "543  2910         3          1        1         0          0         0   \n",
       "544  3850         3          1        2         1          0         0   \n",
       "\n",
       "     hotwaterheating  airconditioning  parking  furnishingstatus  \n",
       "40                 0                1        0                 0  \n",
       "48                 0                0        1                 2  \n",
       "49                 0                1        0                 1  \n",
       "54                 0                1        1                 1  \n",
       "55                 0                1        1                 2  \n",
       "..               ...              ...      ...               ...  \n",
       "539                0                0        1                 2  \n",
       "541                0                0        0                 1  \n",
       "542                0                0        0                 2  \n",
       "543                0                0        0                 0  \n",
       "544                0                0        0                 2  \n",
       "\n",
       "[282 rows x 11 columns]"
      ]
     },
     "execution_count": 41,
     "metadata": {},
     "output_type": "execute_result"
    }
   ],
   "source": [
    "#scaler=MinMaxScaler()\n",
    "scaler=StandardScaler()\n",
    "name=x.columns\n",
    "x"
   ]
  },
  {
   "cell_type": "code",
   "execution_count": 42,
   "id": "5eb821b8",
   "metadata": {},
   "outputs": [],
   "source": [
    "x=scaler.fit_transform(x)"
   ]
  },
  {
   "cell_type": "code",
   "execution_count": 43,
   "id": "ec667012",
   "metadata": {},
   "outputs": [
    {
     "data": {
      "text/html": [
       "<div>\n",
       "<style scoped>\n",
       "    .dataframe tbody tr th:only-of-type {\n",
       "        vertical-align: middle;\n",
       "    }\n",
       "\n",
       "    .dataframe tbody tr th {\n",
       "        vertical-align: top;\n",
       "    }\n",
       "\n",
       "    .dataframe thead th {\n",
       "        text-align: right;\n",
       "    }\n",
       "</style>\n",
       "<table border=\"1\" class=\"dataframe\">\n",
       "  <thead>\n",
       "    <tr style=\"text-align: right;\">\n",
       "      <th></th>\n",
       "      <th>area</th>\n",
       "      <th>bedrooms</th>\n",
       "      <th>bathrooms</th>\n",
       "      <th>stories</th>\n",
       "      <th>mainroad</th>\n",
       "      <th>guestroom</th>\n",
       "      <th>basement</th>\n",
       "      <th>hotwaterheating</th>\n",
       "      <th>airconditioning</th>\n",
       "      <th>parking</th>\n",
       "      <th>furnishingstatus</th>\n",
       "    </tr>\n",
       "  </thead>\n",
       "  <tbody>\n",
       "    <tr>\n",
       "      <th>0</th>\n",
       "      <td>1.547259</td>\n",
       "      <td>0.823754</td>\n",
       "      <td>-0.341369</td>\n",
       "      <td>1.066004</td>\n",
       "      <td>0.514368</td>\n",
       "      <td>-0.424165</td>\n",
       "      <td>1.338686</td>\n",
       "      <td>-0.201471</td>\n",
       "      <td>1.944135</td>\n",
       "      <td>-0.585540</td>\n",
       "      <td>-1.638170</td>\n",
       "    </tr>\n",
       "    <tr>\n",
       "      <th>1</th>\n",
       "      <td>0.001401</td>\n",
       "      <td>0.823754</td>\n",
       "      <td>2.575786</td>\n",
       "      <td>1.066004</td>\n",
       "      <td>0.514368</td>\n",
       "      <td>-0.424165</td>\n",
       "      <td>1.338686</td>\n",
       "      <td>-0.201471</td>\n",
       "      <td>-0.514368</td>\n",
       "      <td>1.707825</td>\n",
       "      <td>1.047667</td>\n",
       "    </tr>\n",
       "    <tr>\n",
       "      <th>2</th>\n",
       "      <td>2.158731</td>\n",
       "      <td>0.823754</td>\n",
       "      <td>2.575786</td>\n",
       "      <td>-0.938083</td>\n",
       "      <td>0.514368</td>\n",
       "      <td>2.357571</td>\n",
       "      <td>1.338686</td>\n",
       "      <td>-0.201471</td>\n",
       "      <td>1.944135</td>\n",
       "      <td>-0.585540</td>\n",
       "      <td>-0.295251</td>\n",
       "    </tr>\n",
       "    <tr>\n",
       "      <th>3</th>\n",
       "      <td>1.169382</td>\n",
       "      <td>0.823754</td>\n",
       "      <td>2.575786</td>\n",
       "      <td>1.066004</td>\n",
       "      <td>0.514368</td>\n",
       "      <td>2.357571</td>\n",
       "      <td>-0.747001</td>\n",
       "      <td>-0.201471</td>\n",
       "      <td>1.944135</td>\n",
       "      <td>1.707825</td>\n",
       "      <td>-0.295251</td>\n",
       "    </tr>\n",
       "    <tr>\n",
       "      <th>4</th>\n",
       "      <td>1.169382</td>\n",
       "      <td>0.823754</td>\n",
       "      <td>-0.341369</td>\n",
       "      <td>1.066004</td>\n",
       "      <td>0.514368</td>\n",
       "      <td>-0.424165</td>\n",
       "      <td>-0.747001</td>\n",
       "      <td>-0.201471</td>\n",
       "      <td>1.944135</td>\n",
       "      <td>1.707825</td>\n",
       "      <td>1.047667</td>\n",
       "    </tr>\n",
       "    <tr>\n",
       "      <th>...</th>\n",
       "      <td>...</td>\n",
       "      <td>...</td>\n",
       "      <td>...</td>\n",
       "      <td>...</td>\n",
       "      <td>...</td>\n",
       "      <td>...</td>\n",
       "      <td>...</td>\n",
       "      <td>...</td>\n",
       "      <td>...</td>\n",
       "      <td>...</td>\n",
       "      <td>...</td>\n",
       "    </tr>\n",
       "    <tr>\n",
       "      <th>277</th>\n",
       "      <td>-0.898632</td>\n",
       "      <td>-1.213954</td>\n",
       "      <td>-0.341369</td>\n",
       "      <td>-0.938083</td>\n",
       "      <td>-1.944135</td>\n",
       "      <td>-0.424165</td>\n",
       "      <td>-0.747001</td>\n",
       "      <td>-0.201471</td>\n",
       "      <td>-0.514368</td>\n",
       "      <td>1.707825</td>\n",
       "      <td>1.047667</td>\n",
       "    </tr>\n",
       "    <tr>\n",
       "      <th>278</th>\n",
       "      <td>-1.303990</td>\n",
       "      <td>0.823754</td>\n",
       "      <td>-0.341369</td>\n",
       "      <td>-0.938083</td>\n",
       "      <td>-1.944135</td>\n",
       "      <td>-0.424165</td>\n",
       "      <td>-0.747001</td>\n",
       "      <td>-0.201471</td>\n",
       "      <td>-0.514368</td>\n",
       "      <td>-0.585540</td>\n",
       "      <td>-0.295251</td>\n",
       "    </tr>\n",
       "    <tr>\n",
       "      <th>279</th>\n",
       "      <td>-0.465792</td>\n",
       "      <td>-1.213954</td>\n",
       "      <td>-0.341369</td>\n",
       "      <td>-0.938083</td>\n",
       "      <td>0.514368</td>\n",
       "      <td>-0.424165</td>\n",
       "      <td>-0.747001</td>\n",
       "      <td>-0.201471</td>\n",
       "      <td>-0.514368</td>\n",
       "      <td>-0.585540</td>\n",
       "      <td>1.047667</td>\n",
       "    </tr>\n",
       "    <tr>\n",
       "      <th>280</th>\n",
       "      <td>-0.953596</td>\n",
       "      <td>0.823754</td>\n",
       "      <td>-0.341369</td>\n",
       "      <td>-0.938083</td>\n",
       "      <td>-1.944135</td>\n",
       "      <td>-0.424165</td>\n",
       "      <td>-0.747001</td>\n",
       "      <td>-0.201471</td>\n",
       "      <td>-0.514368</td>\n",
       "      <td>-0.585540</td>\n",
       "      <td>-1.638170</td>\n",
       "    </tr>\n",
       "    <tr>\n",
       "      <th>281</th>\n",
       "      <td>-0.307771</td>\n",
       "      <td>0.823754</td>\n",
       "      <td>-0.341369</td>\n",
       "      <td>1.066004</td>\n",
       "      <td>0.514368</td>\n",
       "      <td>-0.424165</td>\n",
       "      <td>-0.747001</td>\n",
       "      <td>-0.201471</td>\n",
       "      <td>-0.514368</td>\n",
       "      <td>-0.585540</td>\n",
       "      <td>1.047667</td>\n",
       "    </tr>\n",
       "  </tbody>\n",
       "</table>\n",
       "<p>282 rows × 11 columns</p>\n",
       "</div>"
      ],
      "text/plain": [
       "         area  bedrooms  bathrooms   stories  mainroad  guestroom  basement  \\\n",
       "0    1.547259  0.823754  -0.341369  1.066004  0.514368  -0.424165  1.338686   \n",
       "1    0.001401  0.823754   2.575786  1.066004  0.514368  -0.424165  1.338686   \n",
       "2    2.158731  0.823754   2.575786 -0.938083  0.514368   2.357571  1.338686   \n",
       "3    1.169382  0.823754   2.575786  1.066004  0.514368   2.357571 -0.747001   \n",
       "4    1.169382  0.823754  -0.341369  1.066004  0.514368  -0.424165 -0.747001   \n",
       "..        ...       ...        ...       ...       ...        ...       ...   \n",
       "277 -0.898632 -1.213954  -0.341369 -0.938083 -1.944135  -0.424165 -0.747001   \n",
       "278 -1.303990  0.823754  -0.341369 -0.938083 -1.944135  -0.424165 -0.747001   \n",
       "279 -0.465792 -1.213954  -0.341369 -0.938083  0.514368  -0.424165 -0.747001   \n",
       "280 -0.953596  0.823754  -0.341369 -0.938083 -1.944135  -0.424165 -0.747001   \n",
       "281 -0.307771  0.823754  -0.341369  1.066004  0.514368  -0.424165 -0.747001   \n",
       "\n",
       "     hotwaterheating  airconditioning   parking  furnishingstatus  \n",
       "0          -0.201471         1.944135 -0.585540         -1.638170  \n",
       "1          -0.201471        -0.514368  1.707825          1.047667  \n",
       "2          -0.201471         1.944135 -0.585540         -0.295251  \n",
       "3          -0.201471         1.944135  1.707825         -0.295251  \n",
       "4          -0.201471         1.944135  1.707825          1.047667  \n",
       "..               ...              ...       ...               ...  \n",
       "277        -0.201471        -0.514368  1.707825          1.047667  \n",
       "278        -0.201471        -0.514368 -0.585540         -0.295251  \n",
       "279        -0.201471        -0.514368 -0.585540          1.047667  \n",
       "280        -0.201471        -0.514368 -0.585540         -1.638170  \n",
       "281        -0.201471        -0.514368 -0.585540          1.047667  \n",
       "\n",
       "[282 rows x 11 columns]"
      ]
     },
     "execution_count": 43,
     "metadata": {},
     "output_type": "execute_result"
    }
   ],
   "source": [
    "x=pd.DataFrame(x,columns=name)\n",
    "x"
   ]
  },
  {
   "cell_type": "markdown",
   "id": "b81b907d",
   "metadata": {},
   "source": [
    "### 10. Split the data into training and testing"
   ]
  },
  {
   "cell_type": "code",
   "execution_count": 44,
   "id": "febb73a3",
   "metadata": {},
   "outputs": [],
   "source": [
    "from sklearn.model_selection import train_test_split"
   ]
  },
  {
   "cell_type": "code",
   "execution_count": 45,
   "id": "f15497aa",
   "metadata": {},
   "outputs": [],
   "source": [
    "x_train,x_test,y_train,y_test=train_test_split(x,y,test_size=0.2,random_state=0)"
   ]
  },
  {
   "cell_type": "markdown",
   "id": "f419d49b",
   "metadata": {},
   "source": [
    "### 11. Build the Model"
   ]
  },
  {
   "cell_type": "code",
   "execution_count": 46,
   "id": "ea584baf",
   "metadata": {},
   "outputs": [],
   "source": [
    "from sklearn.linear_model import LinearRegression,Ridge,Lasso\n",
    "#from sklearn.svm import SVC"
   ]
  },
  {
   "cell_type": "code",
   "execution_count": 47,
   "id": "810f4a81",
   "metadata": {},
   "outputs": [],
   "source": [
    "#lr=LinearRegression()\n",
    "#r=Ridge()\n",
    "l=Lasso()\n",
    "#model1=SVC(kernel='linear')"
   ]
  },
  {
   "cell_type": "markdown",
   "id": "4a755a71",
   "metadata": {},
   "source": [
    "### 12. Train the Model"
   ]
  },
  {
   "cell_type": "code",
   "execution_count": 48,
   "id": "ef75505e",
   "metadata": {},
   "outputs": [
    {
     "data": {
      "text/html": [
       "<style>#sk-container-id-1 {color: black;background-color: white;}#sk-container-id-1 pre{padding: 0;}#sk-container-id-1 div.sk-toggleable {background-color: white;}#sk-container-id-1 label.sk-toggleable__label {cursor: pointer;display: block;width: 100%;margin-bottom: 0;padding: 0.3em;box-sizing: border-box;text-align: center;}#sk-container-id-1 label.sk-toggleable__label-arrow:before {content: \"▸\";float: left;margin-right: 0.25em;color: #696969;}#sk-container-id-1 label.sk-toggleable__label-arrow:hover:before {color: black;}#sk-container-id-1 div.sk-estimator:hover label.sk-toggleable__label-arrow:before {color: black;}#sk-container-id-1 div.sk-toggleable__content {max-height: 0;max-width: 0;overflow: hidden;text-align: left;background-color: #f0f8ff;}#sk-container-id-1 div.sk-toggleable__content pre {margin: 0.2em;color: black;border-radius: 0.25em;background-color: #f0f8ff;}#sk-container-id-1 input.sk-toggleable__control:checked~div.sk-toggleable__content {max-height: 200px;max-width: 100%;overflow: auto;}#sk-container-id-1 input.sk-toggleable__control:checked~label.sk-toggleable__label-arrow:before {content: \"▾\";}#sk-container-id-1 div.sk-estimator input.sk-toggleable__control:checked~label.sk-toggleable__label {background-color: #d4ebff;}#sk-container-id-1 div.sk-label input.sk-toggleable__control:checked~label.sk-toggleable__label {background-color: #d4ebff;}#sk-container-id-1 input.sk-hidden--visually {border: 0;clip: rect(1px 1px 1px 1px);clip: rect(1px, 1px, 1px, 1px);height: 1px;margin: -1px;overflow: hidden;padding: 0;position: absolute;width: 1px;}#sk-container-id-1 div.sk-estimator {font-family: monospace;background-color: #f0f8ff;border: 1px dotted black;border-radius: 0.25em;box-sizing: border-box;margin-bottom: 0.5em;}#sk-container-id-1 div.sk-estimator:hover {background-color: #d4ebff;}#sk-container-id-1 div.sk-parallel-item::after {content: \"\";width: 100%;border-bottom: 1px solid gray;flex-grow: 1;}#sk-container-id-1 div.sk-label:hover label.sk-toggleable__label {background-color: #d4ebff;}#sk-container-id-1 div.sk-serial::before {content: \"\";position: absolute;border-left: 1px solid gray;box-sizing: border-box;top: 0;bottom: 0;left: 50%;z-index: 0;}#sk-container-id-1 div.sk-serial {display: flex;flex-direction: column;align-items: center;background-color: white;padding-right: 0.2em;padding-left: 0.2em;position: relative;}#sk-container-id-1 div.sk-item {position: relative;z-index: 1;}#sk-container-id-1 div.sk-parallel {display: flex;align-items: stretch;justify-content: center;background-color: white;position: relative;}#sk-container-id-1 div.sk-item::before, #sk-container-id-1 div.sk-parallel-item::before {content: \"\";position: absolute;border-left: 1px solid gray;box-sizing: border-box;top: 0;bottom: 0;left: 50%;z-index: -1;}#sk-container-id-1 div.sk-parallel-item {display: flex;flex-direction: column;z-index: 1;position: relative;background-color: white;}#sk-container-id-1 div.sk-parallel-item:first-child::after {align-self: flex-end;width: 50%;}#sk-container-id-1 div.sk-parallel-item:last-child::after {align-self: flex-start;width: 50%;}#sk-container-id-1 div.sk-parallel-item:only-child::after {width: 0;}#sk-container-id-1 div.sk-dashed-wrapped {border: 1px dashed gray;margin: 0 0.4em 0.5em 0.4em;box-sizing: border-box;padding-bottom: 0.4em;background-color: white;}#sk-container-id-1 div.sk-label label {font-family: monospace;font-weight: bold;display: inline-block;line-height: 1.2em;}#sk-container-id-1 div.sk-label-container {text-align: center;}#sk-container-id-1 div.sk-container {/* jupyter's `normalize.less` sets `[hidden] { display: none; }` but bootstrap.min.css set `[hidden] { display: none !important; }` so we also need the `!important` here to be able to override the default hidden behavior on the sphinx rendered scikit-learn.org. See: https://github.com/scikit-learn/scikit-learn/issues/21755 */display: inline-block !important;position: relative;}#sk-container-id-1 div.sk-text-repr-fallback {display: none;}</style><div id=\"sk-container-id-1\" class=\"sk-top-container\"><div class=\"sk-text-repr-fallback\"><pre>Lasso()</pre><b>In a Jupyter environment, please rerun this cell to show the HTML representation or trust the notebook. <br />On GitHub, the HTML representation is unable to render, please try loading this page with nbviewer.org.</b></div><div class=\"sk-container\" hidden><div class=\"sk-item\"><div class=\"sk-estimator sk-toggleable\"><input class=\"sk-toggleable__control sk-hidden--visually\" id=\"sk-estimator-id-1\" type=\"checkbox\" checked><label for=\"sk-estimator-id-1\" class=\"sk-toggleable__label sk-toggleable__label-arrow\">Lasso</label><div class=\"sk-toggleable__content\"><pre>Lasso()</pre></div></div></div></div></div>"
      ],
      "text/plain": [
       "Lasso()"
      ]
     },
     "execution_count": 48,
     "metadata": {},
     "output_type": "execute_result"
    }
   ],
   "source": [
    "#lr.fit(x_train,y_train)\n",
    "#r.fit(x_train,y_train)\n",
    "l.fit(x_train,y_train)\n",
    "#msvc=model1.fit(x_train,y_train)"
   ]
  },
  {
   "cell_type": "markdown",
   "id": "c0f4eb26",
   "metadata": {},
   "source": [
    "### 13. Test the Model"
   ]
  },
  {
   "cell_type": "code",
   "execution_count": 49,
   "id": "46e67ebb",
   "metadata": {},
   "outputs": [],
   "source": [
    "#pred=lr.predict(x_test)\n",
    "#pred=r.predict(x_test)\n",
    "pred=l.predict(x_test)\n",
    "#pred=msvc.predict(x_test)"
   ]
  },
  {
   "cell_type": "code",
   "execution_count": 50,
   "id": "e0dca09e",
   "metadata": {},
   "outputs": [
    {
     "data": {
      "text/plain": [
       "array([3780214.55817278, 3861622.89235051, 4761994.35453806,\n",
       "       2932624.97170535, 3159816.28882027, 2938690.17647824,\n",
       "       2995463.74966789, 4264141.07020536, 5440466.08747672,\n",
       "       5676018.11582675, 3519805.14990747, 3697726.35381778,\n",
       "       5786033.4433555 , 3201189.91596945, 4919645.90678401,\n",
       "       3748161.1945022 , 2828420.95134061, 3999944.94082436,\n",
       "       4856965.03121585, 3694261.04728543, 4574755.65138018,\n",
       "       2903716.72820698, 3056901.4323518 , 3001404.72725968,\n",
       "       3905829.64922537, 3241075.711001  , 4422224.28201387,\n",
       "       3514933.74516754, 3068102.94257265, 2439983.25727652,\n",
       "       3353321.62040279, 4765479.39162986, 5214268.00371802,\n",
       "       4758543.7681631 , 3555868.67538292, 3210216.78605577,\n",
       "       3781389.68749291, 5288883.86951693, 3551154.8297583 ,\n",
       "       4860318.29850632, 4155779.38022121, 2992491.2860991 ,\n",
       "       3458119.22995753, 3177332.52938805, 5155079.3465294 ,\n",
       "       3437546.61332738, 4572730.3196577 , 5880866.35731093,\n",
       "       2279204.54117885, 2641322.40340012, 4719954.59293928,\n",
       "       3902768.12561083, 3625751.71204438, 4811387.67228567,\n",
       "       3731910.93731743, 2897544.94321793, 2876972.32658777])"
      ]
     },
     "execution_count": 50,
     "metadata": {},
     "output_type": "execute_result"
    }
   ],
   "source": [
    "pred"
   ]
  },
  {
   "cell_type": "code",
   "execution_count": 51,
   "id": "7cea9050",
   "metadata": {},
   "outputs": [
    {
     "data": {
      "text/plain": [
       "40     7875000\n",
       "48     7455000\n",
       "49     7420000\n",
       "54     7350000\n",
       "55     7350000\n",
       "        ...   \n",
       "539    1855000\n",
       "541    1767150\n",
       "542    1750000\n",
       "543    1750000\n",
       "544    1750000\n",
       "Name: price, Length: 282, dtype: int64"
      ]
     },
     "execution_count": 51,
     "metadata": {},
     "output_type": "execute_result"
    }
   ],
   "source": [
    "y"
   ]
  },
  {
   "cell_type": "markdown",
   "id": "c3daf56a",
   "metadata": {},
   "source": [
    "### 14. Measure the performance using Metrics."
   ]
  },
  {
   "cell_type": "code",
   "execution_count": 52,
   "id": "687a772d",
   "metadata": {},
   "outputs": [],
   "source": [
    "#from sklearn.metrics import confusion_matrix,accuracy_score,classification_report\n",
    "from sklearn.metrics import r2_score"
   ]
  },
  {
   "cell_type": "code",
   "execution_count": 53,
   "id": "192d4097",
   "metadata": {},
   "outputs": [
    {
     "data": {
      "text/plain": [
       "60.719253888775185"
      ]
     },
     "execution_count": 53,
     "metadata": {},
     "output_type": "execute_result"
    }
   ],
   "source": [
    "r2_score(y_test,pred)*100"
   ]
  },
  {
   "cell_type": "code",
   "execution_count": 54,
   "id": "cfad57c5",
   "metadata": {},
   "outputs": [],
   "source": [
    "#confusion_matrix(y_test,pred)"
   ]
  },
  {
   "cell_type": "code",
   "execution_count": 55,
   "id": "ee56a26c",
   "metadata": {},
   "outputs": [],
   "source": [
    "#print(classification_report(y_test,pred))"
   ]
  },
  {
   "cell_type": "code",
   "execution_count": null,
   "id": "1d37263d",
   "metadata": {},
   "outputs": [],
   "source": []
  }
 ],
 "metadata": {
  "kernelspec": {
   "display_name": "Python 3 (ipykernel)",
   "language": "python",
   "name": "python3"
  },
  "language_info": {
   "codemirror_mode": {
    "name": "ipython",
    "version": 3
   },
   "file_extension": ".py",
   "mimetype": "text/x-python",
   "name": "python",
   "nbconvert_exporter": "python",
   "pygments_lexer": "ipython3",
   "version": "3.10.9"
  }
 },
 "nbformat": 4,
 "nbformat_minor": 5
}
