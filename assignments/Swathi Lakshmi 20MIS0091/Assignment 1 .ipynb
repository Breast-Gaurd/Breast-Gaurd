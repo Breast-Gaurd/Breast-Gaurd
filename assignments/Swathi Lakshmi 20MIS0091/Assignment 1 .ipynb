{
 "cells": [
  {
   "cell_type": "markdown",
   "id": "fb397bae",
   "metadata": {},
   "source": [
    "## Assignment 1 - 20MIS0091 A.P.Swathi Lakshmi"
   ]
  },
  {
   "cell_type": "markdown",
   "id": "c535f667",
   "metadata": {},
   "source": [
    "#### Q1. Assign your Name to variable name and Age to variable age. Make a python program that prints your name and age."
   ]
  },
  {
   "cell_type": "code",
   "execution_count": 2,
   "id": "376d4515",
   "metadata": {},
   "outputs": [
    {
     "name": "stdout",
     "output_type": "stream",
     "text": [
      "My name is:  A.P.Swathi Lakshmi\n",
      "My age is:  19\n"
     ]
    }
   ],
   "source": [
    "name='A.P.Swathi Lakshmi'\n",
    "age=19\n",
    "print('My name is: ',name)\n",
    "print('My age is: ',age)"
   ]
  },
  {
   "cell_type": "markdown",
   "id": "376c1bed",
   "metadata": {},
   "source": [
    "#### Q2. X=\"Datascience is used to extract meaningful insights.\"  - Split the string."
   ]
  },
  {
   "cell_type": "code",
   "execution_count": 6,
   "id": "bef55f4d",
   "metadata": {},
   "outputs": [
    {
     "name": "stdout",
     "output_type": "stream",
     "text": [
      "['Datascience', 'is', 'used', 'to', 'extract', 'meaningful', 'insights']\n"
     ]
    }
   ],
   "source": [
    "X='Datascience is used to extract meaningful insights'\n",
    "splitted_str=X.split()\n",
    "print(splitted_str)"
   ]
  },
  {
   "cell_type": "markdown",
   "id": "89a2d662",
   "metadata": {},
   "source": [
    "#### Q3. Make a function that gives multiplication of two numbers."
   ]
  },
  {
   "cell_type": "code",
   "execution_count": 13,
   "id": "462e71a7",
   "metadata": {},
   "outputs": [
    {
     "name": "stdout",
     "output_type": "stream",
     "text": [
      "Enter a: 22\n",
      "Enter b: 10\n",
      "Multiplication of a anb b is: 220\n"
     ]
    }
   ],
   "source": [
    "def multiplication(a,b):\n",
    "    mul=a*b;\n",
    "    print('Multiplication of a anb b is:', mul)\n",
    "a=int(input('Enter a: '))\n",
    "b=int(input('Enter b: '))\n",
    "multiplication(a,b)"
   ]
  },
  {
   "cell_type": "markdown",
   "id": "dad2a34a",
   "metadata": {},
   "source": [
    "#### Q4. Create a Dictionary of 5 states with their capitals. Also print the keys and values."
   ]
  },
  {
   "cell_type": "code",
   "execution_count": 30,
   "id": "04e3659f",
   "metadata": {
    "scrolled": false
   },
   "outputs": [
    {
     "name": "stdout",
     "output_type": "stream",
     "text": [
      "The dictionary items are: \n",
      " dict_items([('Andhra Pradesh', 'Amaravati'), ('Tamil Nadu', 'Chennai'), ('Kerala', 'Thiruvathanapuram'), ('Karnataka', 'Bengaluru'), ('Maharashtra', 'Mumbai')]) \n",
      "\n",
      "The keys are: dict_keys(['Andhra Pradesh', 'Tamil Nadu', 'Kerala', 'Karnataka', 'Maharashtra']) \n",
      "\n",
      "The values are:  dict_values(['Amaravati', 'Chennai', 'Thiruvathanapuram', 'Bengaluru', 'Mumbai']) \n",
      "\n"
     ]
    }
   ],
   "source": [
    "dict1={'Andhra Pradesh': 'Amaravati','Tamil Nadu': 'Chennai','Kerala': 'Thiruvathanapuram','Karnataka': 'Bengaluru','Maharashtra': 'Mumbai'}\n",
    "print('The dictionary items are:', '\\n', dict1.items(), '\\n')\n",
    "print('The keys are:', dict1.keys(), '\\n')\n",
    "print('The values are: ', dict1.values(), '\\n')"
   ]
  },
  {
   "cell_type": "markdown",
   "id": "11926201",
   "metadata": {},
   "source": [
    "#### Q5. Create a list of 1000 numbers using range function."
   ]
  },
  {
   "cell_type": "code",
   "execution_count": null,
   "id": "461bf9ac",
   "metadata": {},
   "outputs": [],
   "source": [
    "import numpy as np"
   ]
  },
  {
   "cell_type": "code",
   "execution_count": 36,
   "id": "4f6eea2b",
   "metadata": {},
   "outputs": [
    {
     "name": "stdout",
     "output_type": "stream",
     "text": [
      "The list containing numbers is: \n",
      "[   1    2    3    4    5    6    7    8    9   10   11   12   13   14\n",
      "   15   16   17   18   19   20   21   22   23   24   25   26   27   28\n",
      "   29   30   31   32   33   34   35   36   37   38   39   40   41   42\n",
      "   43   44   45   46   47   48   49   50   51   52   53   54   55   56\n",
      "   57   58   59   60   61   62   63   64   65   66   67   68   69   70\n",
      "   71   72   73   74   75   76   77   78   79   80   81   82   83   84\n",
      "   85   86   87   88   89   90   91   92   93   94   95   96   97   98\n",
      "   99  100  101  102  103  104  105  106  107  108  109  110  111  112\n",
      "  113  114  115  116  117  118  119  120  121  122  123  124  125  126\n",
      "  127  128  129  130  131  132  133  134  135  136  137  138  139  140\n",
      "  141  142  143  144  145  146  147  148  149  150  151  152  153  154\n",
      "  155  156  157  158  159  160  161  162  163  164  165  166  167  168\n",
      "  169  170  171  172  173  174  175  176  177  178  179  180  181  182\n",
      "  183  184  185  186  187  188  189  190  191  192  193  194  195  196\n",
      "  197  198  199  200  201  202  203  204  205  206  207  208  209  210\n",
      "  211  212  213  214  215  216  217  218  219  220  221  222  223  224\n",
      "  225  226  227  228  229  230  231  232  233  234  235  236  237  238\n",
      "  239  240  241  242  243  244  245  246  247  248  249  250  251  252\n",
      "  253  254  255  256  257  258  259  260  261  262  263  264  265  266\n",
      "  267  268  269  270  271  272  273  274  275  276  277  278  279  280\n",
      "  281  282  283  284  285  286  287  288  289  290  291  292  293  294\n",
      "  295  296  297  298  299  300  301  302  303  304  305  306  307  308\n",
      "  309  310  311  312  313  314  315  316  317  318  319  320  321  322\n",
      "  323  324  325  326  327  328  329  330  331  332  333  334  335  336\n",
      "  337  338  339  340  341  342  343  344  345  346  347  348  349  350\n",
      "  351  352  353  354  355  356  357  358  359  360  361  362  363  364\n",
      "  365  366  367  368  369  370  371  372  373  374  375  376  377  378\n",
      "  379  380  381  382  383  384  385  386  387  388  389  390  391  392\n",
      "  393  394  395  396  397  398  399  400  401  402  403  404  405  406\n",
      "  407  408  409  410  411  412  413  414  415  416  417  418  419  420\n",
      "  421  422  423  424  425  426  427  428  429  430  431  432  433  434\n",
      "  435  436  437  438  439  440  441  442  443  444  445  446  447  448\n",
      "  449  450  451  452  453  454  455  456  457  458  459  460  461  462\n",
      "  463  464  465  466  467  468  469  470  471  472  473  474  475  476\n",
      "  477  478  479  480  481  482  483  484  485  486  487  488  489  490\n",
      "  491  492  493  494  495  496  497  498  499  500  501  502  503  504\n",
      "  505  506  507  508  509  510  511  512  513  514  515  516  517  518\n",
      "  519  520  521  522  523  524  525  526  527  528  529  530  531  532\n",
      "  533  534  535  536  537  538  539  540  541  542  543  544  545  546\n",
      "  547  548  549  550  551  552  553  554  555  556  557  558  559  560\n",
      "  561  562  563  564  565  566  567  568  569  570  571  572  573  574\n",
      "  575  576  577  578  579  580  581  582  583  584  585  586  587  588\n",
      "  589  590  591  592  593  594  595  596  597  598  599  600  601  602\n",
      "  603  604  605  606  607  608  609  610  611  612  613  614  615  616\n",
      "  617  618  619  620  621  622  623  624  625  626  627  628  629  630\n",
      "  631  632  633  634  635  636  637  638  639  640  641  642  643  644\n",
      "  645  646  647  648  649  650  651  652  653  654  655  656  657  658\n",
      "  659  660  661  662  663  664  665  666  667  668  669  670  671  672\n",
      "  673  674  675  676  677  678  679  680  681  682  683  684  685  686\n",
      "  687  688  689  690  691  692  693  694  695  696  697  698  699  700\n",
      "  701  702  703  704  705  706  707  708  709  710  711  712  713  714\n",
      "  715  716  717  718  719  720  721  722  723  724  725  726  727  728\n",
      "  729  730  731  732  733  734  735  736  737  738  739  740  741  742\n",
      "  743  744  745  746  747  748  749  750  751  752  753  754  755  756\n",
      "  757  758  759  760  761  762  763  764  765  766  767  768  769  770\n",
      "  771  772  773  774  775  776  777  778  779  780  781  782  783  784\n",
      "  785  786  787  788  789  790  791  792  793  794  795  796  797  798\n",
      "  799  800  801  802  803  804  805  806  807  808  809  810  811  812\n",
      "  813  814  815  816  817  818  819  820  821  822  823  824  825  826\n",
      "  827  828  829  830  831  832  833  834  835  836  837  838  839  840\n",
      "  841  842  843  844  845  846  847  848  849  850  851  852  853  854\n",
      "  855  856  857  858  859  860  861  862  863  864  865  866  867  868\n",
      "  869  870  871  872  873  874  875  876  877  878  879  880  881  882\n",
      "  883  884  885  886  887  888  889  890  891  892  893  894  895  896\n",
      "  897  898  899  900  901  902  903  904  905  906  907  908  909  910\n",
      "  911  912  913  914  915  916  917  918  919  920  921  922  923  924\n",
      "  925  926  927  928  929  930  931  932  933  934  935  936  937  938\n",
      "  939  940  941  942  943  944  945  946  947  948  949  950  951  952\n",
      "  953  954  955  956  957  958  959  960  961  962  963  964  965  966\n",
      "  967  968  969  970  971  972  973  974  975  976  977  978  979  980\n",
      "  981  982  983  984  985  986  987  988  989  990  991  992  993  994\n",
      "  995  996  997  998  999 1000]\n"
     ]
    }
   ],
   "source": [
    "list=np.arange(1,1001)\n",
    "print('The list containing numbers is: ')\n",
    "print(list)"
   ]
  },
  {
   "cell_type": "markdown",
   "id": "98056972",
   "metadata": {},
   "source": [
    "#### Q6. Create an identity matrix of dimension 4 by 4."
   ]
  },
  {
   "cell_type": "code",
   "execution_count": 38,
   "id": "322a5be0",
   "metadata": {},
   "outputs": [
    {
     "name": "stdout",
     "output_type": "stream",
     "text": [
      "The 4 X 4 Identity matrix is: \n",
      "[[1. 0. 0. 0.]\n",
      " [0. 1. 0. 0.]\n",
      " [0. 0. 1. 0.]\n",
      " [0. 0. 0. 1.]]\n"
     ]
    }
   ],
   "source": [
    "print('The 4 X 4 Identity matrix is: ')\n",
    "print(np.eye(4))"
   ]
  },
  {
   "cell_type": "markdown",
   "id": "d10f9570",
   "metadata": {},
   "source": [
    "#### Q7. Create a 3x3 matrix with values ranging from 1 to 9."
   ]
  },
  {
   "cell_type": "code",
   "execution_count": 41,
   "id": "69d30570",
   "metadata": {},
   "outputs": [
    {
     "name": "stdout",
     "output_type": "stream",
     "text": [
      "The matrix is: \n",
      "[[1 2 3]\n",
      " [4 5 6]\n",
      " [7 8 9]]\n"
     ]
    }
   ],
   "source": [
    "my_matrix=[[1,2,3],[4,5,6],[7,8,9]]\n",
    "matrix=np.array(my_matrix)\n",
    "print('The matrix is: ') \n",
    "print(matrix)"
   ]
  },
  {
   "cell_type": "markdown",
   "id": "c51a1e16",
   "metadata": {},
   "source": [
    "#### Q8. Create 2 similar dimensional array and perform sum on them."
   ]
  },
  {
   "cell_type": "code",
   "execution_count": 46,
   "id": "5958b95c",
   "metadata": {},
   "outputs": [
    {
     "name": "stdout",
     "output_type": "stream",
     "text": [
      "Array 1 is: \n",
      " [[10 12 14]\n",
      " [22 24 26]\n",
      " [ 8 18 28]]\n",
      "Array 2 is:  \n",
      " [[11 22 33]\n",
      " [15 30 45]\n",
      " [ 5 10 15]]\n",
      "The sum of the two arrays is:  \n",
      " [[21 34 47]\n",
      " [37 54 71]\n",
      " [13 28 43]]\n"
     ]
    }
   ],
   "source": [
    "arr1=np.array([[10,12,14],[22,24,26],[8,18,28]])\n",
    "print('Array 1 is:', '\\n', arr1)\n",
    "arr2=np.array([[11,22,33],[15,30,45],[5,10,15]])\n",
    "print('Array 2 is: ', '\\n', arr2)\n",
    "sum=arr1+arr2\n",
    "print('The sum of the two arrays is: ', '\\n', sum)"
   ]
  },
  {
   "cell_type": "markdown",
   "id": "573692d4",
   "metadata": {},
   "source": [
    "#### Q9. Generate the series of dates from 1st Feb, 2023 to 1st March, 2023 (both inclusive)."
   ]
  },
  {
   "cell_type": "code",
   "execution_count": 49,
   "id": "1ca60be6",
   "metadata": {},
   "outputs": [],
   "source": [
    "import pandas as pd"
   ]
  },
  {
   "cell_type": "code",
   "execution_count": 52,
   "id": "1cf16dab",
   "metadata": {},
   "outputs": [
    {
     "name": "stdout",
     "output_type": "stream",
     "text": [
      "The series of dates are:  \n",
      " DatetimeIndex(['2023-02-01', '2023-02-02', '2023-02-03', '2023-02-04',\n",
      "               '2023-02-05', '2023-02-06', '2023-02-07', '2023-02-08',\n",
      "               '2023-02-09', '2023-02-10', '2023-02-11', '2023-02-12',\n",
      "               '2023-02-13', '2023-02-14', '2023-02-15', '2023-02-16',\n",
      "               '2023-02-17', '2023-02-18', '2023-02-19', '2023-02-20',\n",
      "               '2023-02-21', '2023-02-22', '2023-02-23', '2023-02-24',\n",
      "               '2023-02-25', '2023-02-26', '2023-02-27', '2023-02-28',\n",
      "               '2023-03-01'],\n",
      "              dtype='datetime64[ns]', freq='D')\n"
     ]
    }
   ],
   "source": [
    "dates=pd.date_range(start='02/01/2023', end='03/01/2023')\n",
    "print('The series of dates are: ', '\\n', dates)"
   ]
  },
  {
   "cell_type": "markdown",
   "id": "5ab83c79",
   "metadata": {},
   "source": [
    "#### Q10. Given a dictionary, convert it into corresponding dataframe and display it.\n",
    "#### dictionary= {'Brand': ['Maruti', 'Renault', 'Hyundai'], 'Sales' : [250, 200, 240])"
   ]
  },
  {
   "cell_type": "code",
   "execution_count": 58,
   "id": "eccaa30c",
   "metadata": {},
   "outputs": [
    {
     "name": "stdout",
     "output_type": "stream",
     "text": [
      "DataFrame is:  \n",
      "      Brand  Sales\n",
      "0   Maruti    250\n",
      "1  Renault    200\n",
      "2  Hyundai    240\n"
     ]
    }
   ],
   "source": [
    "dictionary={'Brand': ['Maruti','Renault','Hyundai'], 'Sales': [250,200,240]}\n",
    "dict_df=pd.DataFrame(dictionary)\n",
    "print('DataFrame is: ', '\\n', dict_df)"
   ]
  }
 ],
 "metadata": {
  "kernelspec": {
   "display_name": "Python 3 (ipykernel)",
   "language": "python",
   "name": "python3"
  },
  "language_info": {
   "codemirror_mode": {
    "name": "ipython",
    "version": 3
   },
   "file_extension": ".py",
   "mimetype": "text/x-python",
   "name": "python",
   "nbconvert_exporter": "python",
   "pygments_lexer": "ipython3",
   "version": "3.10.9"
  }
 },
 "nbformat": 4,
 "nbformat_minor": 5
}
